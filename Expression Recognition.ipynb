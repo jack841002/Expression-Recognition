{
 "cells": [
  {
   "cell_type": "code",
   "execution_count": 1,
   "metadata": {},
   "outputs": [],
   "source": [
    "import os\n",
    "import sys\n",
    "import numpy as np\n",
    "import pandas as pd\n",
    "import cv2"
   ]
  },
  {
   "cell_type": "code",
   "execution_count": 2,
   "metadata": {},
   "outputs": [],
   "source": [
    "image_size = 100\n",
    "path_name = './expression/original'"
   ]
  },
  {
   "cell_type": "code",
   "execution_count": 3,
   "metadata": {},
   "outputs": [],
   "source": [
    "images = []\n",
    "labels = []\n",
    "path = []\n",
    "imageID = []\n",
    "ID = []"
   ]
  },
  {
   "cell_type": "code",
   "execution_count": 4,
   "metadata": {},
   "outputs": [],
   "source": [
    "def resize_image(image, height = image_size, width = image_size):\n",
    "    top, bottom, left, right = (0, 0, 0, 0)\n",
    "     \n",
    "    #獲取影象尺寸\n",
    "    h, w, _ = image.shape\n",
    "    \n",
    "    #對於長寬不相等的圖片，找到最長的一邊\n",
    "    longest_edge = max(h, w)    \n",
    "    \n",
    "    #計算短邊需要增加多上畫素寬度使其與長邊等長\n",
    "    if h < longest_edge:\n",
    "        dh = longest_edge - h\n",
    "        top = dh // 2\n",
    "        bottom = dh - top\n",
    "    elif w < longest_edge:\n",
    "        dw = longest_edge - w\n",
    "        left = dw // 2\n",
    "        right = dw - left\n",
    "    else:\n",
    "        pass \n",
    "    \n",
    "    #RGB顏色\n",
    "    BLACK = [0, 0, 0]\n",
    "    \n",
    "    #給影象增加邊界，是圖片長、寬等長，cv2.BORDER_CONSTANT指定邊界顏色由value指定\n",
    "    constant = cv2.copyMakeBorder(image, top , bottom, left, right, cv2.BORDER_CONSTANT, value = BLACK)\n",
    "    \n",
    "    #調整影象大小並返回\n",
    "    return cv2.resize(constant, (height, width))"
   ]
  },
  {
   "cell_type": "code",
   "execution_count": 5,
   "metadata": {},
   "outputs": [],
   "source": [
    "def read_path(path_name):\n",
    "    for dir_item in os.listdir(path_name):\n",
    "        #從初始路徑開始疊加，合併成可識別的操作路徑\n",
    "        full_path = os.path.abspath(os.path.join(path_name, dir_item))\n",
    "\n",
    "        if os.path.isdir(full_path):    #如果是資料夾，繼續遞迴呼叫\n",
    "            read_path(full_path)\n",
    "        else: #檔案\n",
    "            if dir_item.endswith('.jpg'):\n",
    "                image = cv2.imread(full_path)\n",
    "                image = resize_image(image, image_size, image_size)\n",
    "                \n",
    "                #放開這個程式碼，可以看到resize_image()函式的實際呼叫效果\n",
    "                #cv2.imwrite('1.jpg', image)\n",
    "                \n",
    "                images.append(image)  \n",
    "                path.append(full_path)                                \n",
    "                \n",
    "    return images, path"
   ]
  },
  {
   "cell_type": "code",
   "execution_count": 6,
   "metadata": {},
   "outputs": [],
   "source": [
    "images, path = read_path(path_name)"
   ]
  },
  {
   "cell_type": "code",
   "execution_count": 7,
   "metadata": {},
   "outputs": [],
   "source": [
    "for i in range(len(path)):\n",
    "    ID.append(path[i].split('\\\\')[-1])"
   ]
  },
  {
   "cell_type": "code",
   "execution_count": 8,
   "metadata": {},
   "outputs": [
    {
     "name": "stdout",
     "output_type": "stream",
     "text": [
      "['test_001.jpg', 'test_002.jpg', 'test_003.jpg', 'test_004.jpg', 'test_005.jpg', 'test_006.jpg', 'test_007.jpg', 'test_008.jpg', 'test_009.jpg', 'test_010.jpg', 'test_011.jpg', 'test_012.jpg', 'test_013.jpg', 'test_014.jpg', 'test_015.jpg', 'test_016.jpg', 'test_017.jpg', 'test_018.jpg', 'test_019.jpg', 'test_020.jpg', 'test_021.jpg', 'test_022.jpg', 'test_023.jpg', 'test_024.jpg', 'test_025.jpg', 'test_026.jpg', 'test_027.jpg', 'test_028.jpg', 'test_029.jpg', 'test_030.jpg', 'test_031.jpg', 'test_032.jpg', 'test_033.jpg', 'test_034.jpg', 'test_035.jpg', 'test_036.jpg', 'test_037.jpg', 'test_038.jpg', 'test_039.jpg', 'test_040.jpg', 'test_041.jpg', 'test_042.jpg', 'test_043.jpg', 'test_044.jpg', 'test_045.jpg', 'test_046.jpg', 'test_047.jpg', 'test_048.jpg', 'test_049.jpg', 'test_050.jpg', 'test_051.jpg', 'test_052.jpg', 'test_053.jpg', 'test_054.jpg', 'test_055.jpg', 'test_056.jpg', 'test_057.jpg', 'test_058.jpg', 'test_059.jpg', 'test_060.jpg', 'test_061.jpg', 'test_062.jpg', 'test_063.jpg', 'test_064.jpg', 'test_065.jpg', 'test_066.jpg', 'test_067.jpg', 'test_068.jpg', 'test_069.jpg', 'test_070.jpg', 'test_071.jpg', 'test_072.jpg', 'test_073.jpg', 'test_074.jpg', 'test_075.jpg', 'test_076.jpg', 'test_077.jpg', 'test_078.jpg', 'test_079.jpg', 'test_080.jpg', 'test_081.jpg', 'test_082.jpg', 'test_083.jpg', 'test_084.jpg', 'test_085.jpg', 'test_086.jpg', 'test_087.jpg', 'test_088.jpg', 'test_089.jpg', 'test_090.jpg', 'test_091.jpg', 'test_092.jpg', 'test_093.jpg', 'test_094.jpg', 'test_095.jpg', 'test_096.jpg', 'test_097.jpg', 'test_098.jpg', 'test_099.jpg', 'test_100.jpg', 'test_101.jpg', 'test_102.jpg', 'test_103.jpg', 'test_104.jpg', 'test_105.jpg', 'test_106.jpg', 'test_107.jpg', 'test_108.jpg', 'test_109.jpg', 'test_110.jpg', 'test_111.jpg', 'test_112.jpg', 'test_113.jpg', 'test_114.jpg', 'test_115.jpg', 'test_116.jpg', 'test_117.jpg', 'test_118.jpg', 'test_119.jpg', 'test_120.jpg', 'test_121.jpg', 'test_122.jpg', 'test_123.jpg', 'test_124.jpg', 'test_125.jpg', 'test_126.jpg', 'test_127.jpg', 'test_128.jpg', 'test_129.jpg', 'test_130.jpg', 'test_131.jpg', 'test_132.jpg', 'test_133.jpg', 'test_134.jpg', 'test_135.jpg', 'test_136.jpg', 'test_137.jpg', 'test_138.jpg', 'test_139.jpg', 'test_140.jpg', 'test_141.jpg', 'test_142.jpg', 'test_143.jpg', 'test_144.jpg', 'test_145.jpg', 'test_146.jpg', 'test_147.jpg', 'test_148.jpg', 'test_149.jpg', 'test_150.jpg', 'test_151.jpg', 'test_152.jpg', 'test_153.jpg', 'test_154.jpg', 'test_155.jpg', 'test_156.jpg', 'test_157.jpg', 'test_158.jpg', 'test_159.jpg', 'test_160.jpg', 'test_161.jpg', 'test_162.jpg', 'test_163.jpg', 'test_164.jpg', 'test_165.jpg', 'test_166.jpg', 'test_167.jpg', 'test_168.jpg', 'test_169.jpg', 'test_170.jpg', 'test_171.jpg', 'test_172.jpg', 'test_173.jpg', 'test_174.jpg', 'test_175.jpg', 'test_176.jpg', 'test_177.jpg', 'test_178.jpg', 'test_179.jpg', 'test_180.jpg', 'test_181.jpg', 'test_182.jpg', 'test_183.jpg', 'test_184.jpg', 'test_185.jpg', 'test_186.jpg', 'test_187.jpg', 'test_188.jpg', 'test_189.jpg', 'test_190.jpg', 'test_191.jpg', 'test_192.jpg', 'test_193.jpg', 'test_194.jpg', 'test_195.jpg', 'test_196.jpg', 'test_197.jpg', 'test_198.jpg', 'test_199.jpg', 'test_200.jpg', 'test_201.jpg', 'test_202.jpg', 'test_203.jpg', 'test_204.jpg', 'test_205.jpg', 'test_206.jpg', 'test_207.jpg', 'test_208.jpg', 'test_209.jpg', 'test_210.jpg', 'test_211.jpg', 'test_212.jpg', 'test_213.jpg', 'test_214.jpg', 'test_215.jpg', 'test_216.jpg', 'test_217.jpg', 'test_218.jpg', 'test_219.jpg', 'test_220.jpg', 'test_221.jpg', 'test_222.jpg', 'test_223.jpg', 'test_224.jpg', 'test_225.jpg', 'test_226.jpg', 'test_227.jpg', 'test_228.jpg', 'test_229.jpg', 'test_230.jpg', 'test_231.jpg', 'test_232.jpg', 'test_233.jpg', 'test_234.jpg', 'test_235.jpg', 'test_236.jpg', 'test_237.jpg', 'test_238.jpg', 'test_239.jpg', 'test_240.jpg', 'test_241.jpg', 'test_242.jpg', 'test_243.jpg', 'test_244.jpg', 'test_245.jpg', 'test_246.jpg', 'test_247.jpg', 'test_248.jpg', 'test_249.jpg', 'test_250.jpg', 'test_251.jpg', 'test_252.jpg', 'test_253.jpg', 'test_254.jpg', 'test_255.jpg', 'test_256.jpg', 'test_257.jpg', 'test_258.jpg', 'test_259.jpg', 'test_260.jpg', 'test_261.jpg', 'test_262.jpg', 'test_263.jpg', 'test_264.jpg', 'test_265.jpg', 'test_266.jpg', 'test_267.jpg', 'test_268.jpg', 'test_269.jpg', 'test_270.jpg', 'test_271.jpg', 'test_272.jpg', 'test_273.jpg', 'test_274.jpg', 'test_275.jpg', 'test_276.jpg', 'test_277.jpg', 'test_278.jpg', 'test_279.jpg', 'test_280.jpg', 'test_281.jpg', 'test_282.jpg', 'test_283.jpg', 'test_284.jpg', 'test_285.jpg', 'test_286.jpg', 'test_287.jpg', 'test_288.jpg', 'test_289.jpg', 'test_290.jpg', 'test_291.jpg', 'test_292.jpg', 'test_293.jpg', 'test_294.jpg', 'test_295.jpg', 'test_296.jpg', 'test_297.jpg', 'test_298.jpg', 'test_299.jpg', 'test_300.jpg', 'test_301.jpg', 'test_302.jpg', 'test_303.jpg', 'test_304.jpg', 'test_305.jpg', 'test_306.jpg', 'test_307.jpg', 'test_308.jpg', 'test_309.jpg', 'test_310.jpg', 'test_311.jpg', 'test_312.jpg', 'test_313.jpg', 'test_314.jpg', 'test_315.jpg', 'test_316.jpg', 'test_317.jpg', 'test_318.jpg', 'test_319.jpg', 'test_320.jpg', 'test_321.jpg', 'test_322.jpg', 'test_323.jpg', 'test_324.jpg', 'test_325.jpg', 'test_326.jpg', 'test_327.jpg', 'test_328.jpg', 'test_329.jpg', 'test_330.jpg', 'test_331.jpg', 'test_332.jpg', 'test_333.jpg', 'test_334.jpg', 'test_335.jpg', 'test_336.jpg', 'test_337.jpg', 'test_338.jpg', 'test_339.jpg', 'test_340.jpg', 'test_341.jpg', 'test_342.jpg', 'test_343.jpg', 'test_344.jpg', 'test_345.jpg', 'test_346.jpg', 'test_347.jpg', 'test_348.jpg', 'test_349.jpg', 'test_350.jpg', 'test_351.jpg', 'test_352.jpg', 'test_353.jpg', 'test_354.jpg', 'test_355.jpg', 'test_356.jpg', 'test_357.jpg', 'test_358.jpg', 'test_359.jpg', 'test_360.jpg', 'test_361.jpg', 'test_362.jpg', 'test_363.jpg', 'test_364.jpg', 'test_365.jpg', 'test_366.jpg', 'test_367.jpg', 'test_368.jpg', 'test_369.jpg', 'test_370.jpg', 'test_371.jpg', 'test_372.jpg', 'test_373.jpg', 'test_374.jpg', 'test_375.jpg', 'test_376.jpg', 'test_377.jpg', 'test_378.jpg', 'test_379.jpg', 'test_380.jpg', 'test_381.jpg', 'test_382.jpg', 'test_383.jpg', 'test_384.jpg', 'test_385.jpg', 'test_386.jpg', 'test_387.jpg', 'test_388.jpg', 'test_389.jpg', 'test_390.jpg', 'test_391.jpg', 'test_392.jpg', 'test_393.jpg', 'test_394.jpg', 'test_395.jpg', 'test_396.jpg', 'test_397.jpg', 'test_398.jpg', 'test_399.jpg', 'test_400.jpg', 'test_401.jpg', 'test_402.jpg', 'test_403.jpg', 'test_404.jpg', 'test_405.jpg', 'test_406.jpg', 'test_407.jpg', 'test_408.jpg', 'test_409.jpg', 'test_410.jpg', 'test_411.jpg', 'test_412.jpg', 'test_413.jpg', 'test_414.jpg', 'test_415.jpg', 'test_416.jpg', 'test_417.jpg', 'test_418.jpg', 'test_419.jpg', 'test_420.jpg', 'test_421.jpg', 'test_422.jpg', 'test_423.jpg', 'test_424.jpg', 'test_425.jpg', 'test_426.jpg', 'test_427.jpg', 'test_428.jpg', 'test_429.jpg', 'test_430.jpg', 'test_431.jpg', 'test_432.jpg', 'test_433.jpg', 'test_434.jpg', 'test_435.jpg', 'test_436.jpg', 'test_437.jpg', 'test_438.jpg', 'test_439.jpg', 'test_440.jpg', 'test_441.jpg', 'test_442.jpg', 'test_443.jpg', 'test_444.jpg', 'test_445.jpg', 'test_446.jpg', 'test_447.jpg', 'test_448.jpg', 'test_449.jpg', 'test_450.jpg', 'test_451.jpg', 'test_452.jpg', 'test_453.jpg', 'test_454.jpg', 'test_455.jpg', 'test_456.jpg', 'test_457.jpg', 'test_458.jpg', 'test_459.jpg', 'test_460.jpg', 'test_461.jpg', 'test_462.jpg', 'test_463.jpg', 'test_464.jpg', 'test_465.jpg', 'test_466.jpg', 'test_467.jpg', 'test_468.jpg', 'test_469.jpg', 'test_470.jpg', 'test_471.jpg', 'test_472.jpg', 'test_473.jpg', 'test_474.jpg', 'test_475.jpg', 'test_476.jpg', 'test_477.jpg', 'test_478.jpg', 'test_479.jpg', 'test_480.jpg', 'test_481.jpg', 'test_482.jpg', 'test_483.jpg', 'test_484.jpg', 'test_485.jpg', 'test_486.jpg', 'test_487.jpg', 'test_488.jpg', 'test_489.jpg', 'test_490.jpg', 'test_491.jpg', 'test_492.jpg', 'test_493.jpg', 'test_494.jpg', 'test_495.jpg', 'test_496.jpg', 'test_497.jpg', 'test_498.jpg', 'test_499.jpg', 'test_500.jpg', 'test_501.jpg', 'test_502.jpg', 'test_503.jpg', 'test_504.jpg', 'test_505.jpg', 'test_506.jpg', 'test_507.jpg', 'test_508.jpg', 'test_509.jpg', 'test_510.jpg', 'test_511.jpg', 'test_512.jpg', 'test_513.jpg', 'test_514.jpg', 'test_515.jpg', 'test_516.jpg', 'test_517.jpg', 'test_518.jpg', 'test_519.jpg', 'test_520.jpg', 'test_521.jpg', 'test_522.jpg', 'test_523.jpg', 'test_524.jpg', 'test_525.jpg', 'test_526.jpg', 'test_527.jpg', 'test_528.jpg', 'test_529.jpg', 'test_530.jpg', 'test_531.jpg', 'test_532.jpg', 'test_533.jpg', 'test_534.jpg', 'test_535.jpg', 'test_536.jpg', 'test_537.jpg', 'test_538.jpg', 'test_539.jpg', 'test_540.jpg', 'test_541.jpg', 'test_542.jpg', 'test_543.jpg', 'test_544.jpg', 'test_545.jpg', 'test_546.jpg', 'test_547.jpg', 'test_548.jpg', 'test_549.jpg', 'test_550.jpg', 'test_551.jpg', 'test_552.jpg', 'test_553.jpg', 'test_554.jpg', 'test_555.jpg', 'test_556.jpg', 'test_557.jpg', 'test_558.jpg', 'test_559.jpg', 'test_560.jpg', 'test_561.jpg', 'test_562.jpg', 'test_563.jpg', 'test_564.jpg', 'test_565.jpg', 'test_566.jpg', 'test_567.jpg', 'test_568.jpg', 'test_569.jpg', 'test_570.jpg', 'test_571.jpg', 'test_572.jpg', 'test_573.jpg', 'test_574.jpg', 'test_575.jpg', 'test_576.jpg', 'test_577.jpg', 'test_578.jpg', 'test_579.jpg', 'test_580.jpg', 'test_581.jpg', 'test_582.jpg', 'test_583.jpg', 'test_584.jpg', 'test_585.jpg', 'test_586.jpg', 'test_587.jpg', 'test_588.jpg', 'test_589.jpg', 'test_590.jpg', 'test_591.jpg', 'test_592.jpg', 'test_593.jpg', 'test_594.jpg', 'test_595.jpg', 'test_596.jpg', 'test_597.jpg', 'test_598.jpg', 'test_599.jpg', 'test_600.jpg', 'test_601.jpg', 'test_602.jpg', 'test_603.jpg', 'test_604.jpg', 'test_605.jpg', 'test_606.jpg', 'test_607.jpg', 'test_608.jpg', 'test_609.jpg', 'test_610.jpg', 'test_611.jpg', 'test_612.jpg', 'test_613.jpg', 'test_614.jpg', 'test_615.jpg', 'test_616.jpg', 'test_617.jpg', 'test_618.jpg', 'test_619.jpg', 'test_620.jpg', 'test_621.jpg', 'test_622.jpg', 'test_623.jpg', 'test_624.jpg', 'test_625.jpg', 'test_626.jpg', 'test_627.jpg', 'test_628.jpg', 'test_629.jpg', 'test_630.jpg', 'test_631.jpg', 'test_632.jpg', 'test_633.jpg', 'test_634.jpg', 'test_635.jpg', 'test_636.jpg', 'test_637.jpg', 'test_638.jpg', 'test_639.jpg', 'test_640.jpg', 'test_641.jpg', 'test_642.jpg', 'test_643.jpg', 'test_644.jpg', 'test_645.jpg', 'test_646.jpg', 'test_647.jpg', 'test_648.jpg', 'test_649.jpg', 'test_650.jpg', 'test_651.jpg', 'test_652.jpg', 'test_653.jpg', 'test_654.jpg', 'test_655.jpg', 'test_656.jpg', 'test_657.jpg', 'test_658.jpg', 'test_659.jpg', 'test_660.jpg', 'test_661.jpg', 'test_662.jpg', 'test_663.jpg', 'test_664.jpg', 'test_665.jpg', 'test_666.jpg', 'test_667.jpg', 'test_668.jpg', 'test_669.jpg', 'test_670.jpg', 'test_671.jpg', 'test_672.jpg', 'test_673.jpg', 'test_674.jpg', 'test_675.jpg', 'test_676.jpg', 'test_677.jpg', 'test_678.jpg', 'test_679.jpg', 'test_680.jpg', 'test_681.jpg', 'test_682.jpg', 'test_683.jpg', 'test_684.jpg', 'test_685.jpg', 'test_686.jpg', 'test_687.jpg', 'test_688.jpg', 'test_689.jpg', 'test_690.jpg', 'test_691.jpg', 'test_692.jpg', 'test_693.jpg', 'test_694.jpg', 'test_695.jpg', 'test_696.jpg', 'test_697.jpg', 'test_698.jpg', 'test_699.jpg', 'test_700.jpg', 'test_701.jpg', 'test_702.jpg', 'test_703.jpg', 'test_704.jpg', 'test_705.jpg', 'test_706.jpg', 'test_707.jpg', 'test_708.jpg', 'test_709.jpg', 'test_710.jpg', 'test_711.jpg', 'test_712.jpg', 'test_713.jpg', 'test_714.jpg', 'test_715.jpg', 'test_716.jpg', 'test_717.jpg', 'test_718.jpg', 'test_719.jpg', 'test_720.jpg', 'test_721.jpg', 'test_722.jpg', 'test_723.jpg', 'test_724.jpg', 'test_725.jpg', 'test_726.jpg', 'test_727.jpg', 'test_728.jpg', 'test_729.jpg', 'test_730.jpg', 'test_731.jpg', 'test_732.jpg', 'test_733.jpg', 'test_734.jpg', 'test_735.jpg', 'test_736.jpg', 'test_737.jpg', 'test_738.jpg', 'test_739.jpg', 'test_740.jpg', 'test_741.jpg', 'test_742.jpg', 'test_743.jpg', 'test_744.jpg', 'test_745.jpg', 'test_746.jpg', 'test_747.jpg', 'test_748.jpg', 'test_749.jpg', 'test_750.jpg', 'test_751.jpg', 'test_752.jpg', 'test_753.jpg', 'test_754.jpg', 'test_755.jpg', 'test_756.jpg', 'test_757.jpg', 'test_758.jpg', 'test_759.jpg', 'test_760.jpg', 'test_761.jpg', 'test_762.jpg', 'test_763.jpg', 'test_764.jpg', 'test_765.jpg', 'test_766.jpg', 'test_767.jpg', 'test_768.jpg', 'test_769.jpg', 'test_770.jpg', 'test_771.jpg', 'test_772.jpg', 'test_773.jpg', 'test_774.jpg', 'test_775.jpg', 'test_776.jpg', 'test_777.jpg', 'test_778.jpg', 'test_779.jpg', 'test_780.jpg', 'test_781.jpg', 'test_782.jpg', 'test_783.jpg', 'test_784.jpg', 'test_785.jpg', 'test_786.jpg', 'test_787.jpg', 'test_788.jpg', 'test_789.jpg', 'test_790.jpg', 'test_791.jpg', 'test_792.jpg', 'train_0001.jpg', 'train_0002.jpg', 'train_0003.jpg', 'train_0004.jpg', 'train_0005.jpg', 'train_0006.jpg', 'train_0007.jpg', 'train_0008.jpg', 'train_0009.jpg', 'train_0010.jpg', 'train_0011.jpg', 'train_0012.jpg', 'train_0013.jpg', 'train_0014.jpg', 'train_0015.jpg', 'train_0016.jpg', 'train_0017.jpg', 'train_0018.jpg', 'train_0019.jpg', 'train_0020.jpg', 'train_0021.jpg', 'train_0022.jpg', 'train_0023.jpg', 'train_0024.jpg', 'train_0025.jpg', 'train_0026.jpg', 'train_0027.jpg', 'train_0028.jpg', 'train_0029.jpg', 'train_0030.jpg', 'train_0031.jpg', 'train_0032.jpg', 'train_0033.jpg', 'train_0034.jpg', 'train_0035.jpg', 'train_0036.jpg', 'train_0037.jpg', 'train_0038.jpg', 'train_0039.jpg', 'train_0040.jpg', 'train_0041.jpg', 'train_0042.jpg', 'train_0043.jpg', 'train_0044.jpg', 'train_0045.jpg', 'train_0046.jpg', 'train_0047.jpg', 'train_0048.jpg', 'train_0049.jpg', 'train_0050.jpg', 'train_0051.jpg', 'train_0052.jpg', 'train_0053.jpg', 'train_0054.jpg', 'train_0055.jpg', 'train_0056.jpg', 'train_0057.jpg', 'train_0058.jpg', 'train_0059.jpg', 'train_0060.jpg', 'train_0061.jpg', 'train_0062.jpg', 'train_0063.jpg', 'train_0064.jpg', 'train_0065.jpg', 'train_0066.jpg', 'train_0067.jpg', 'train_0068.jpg', 'train_0069.jpg', 'train_0070.jpg', 'train_0071.jpg', 'train_0072.jpg', 'train_0073.jpg', 'train_0074.jpg', 'train_0075.jpg', 'train_0076.jpg', 'train_0077.jpg', 'train_0078.jpg', 'train_0079.jpg', 'train_0080.jpg', 'train_0081.jpg', 'train_0082.jpg', 'train_0083.jpg', 'train_0084.jpg', 'train_0085.jpg', 'train_0086.jpg', 'train_0087.jpg', 'train_0088.jpg', 'train_0089.jpg', 'train_0090.jpg', 'train_0091.jpg', 'train_0092.jpg', 'train_0093.jpg', 'train_0094.jpg', 'train_0095.jpg', 'train_0096.jpg', 'train_0097.jpg', 'train_0098.jpg', 'train_0099.jpg', 'train_0100.jpg', 'train_0101.jpg', 'train_0102.jpg', 'train_0103.jpg', 'train_0104.jpg', 'train_0105.jpg', 'train_0106.jpg', 'train_0107.jpg', 'train_0108.jpg', 'train_0109.jpg', 'train_0110.jpg', 'train_0111.jpg', 'train_0112.jpg', 'train_0113.jpg', 'train_0114.jpg', 'train_0115.jpg', 'train_0116.jpg', 'train_0117.jpg', 'train_0118.jpg', 'train_0119.jpg', 'train_0120.jpg', 'train_0121.jpg', 'train_0122.jpg', 'train_0123.jpg', 'train_0124.jpg', 'train_0125.jpg', 'train_0126.jpg', 'train_0127.jpg', 'train_0128.jpg', 'train_0129.jpg', 'train_0130.jpg', 'train_0131.jpg', 'train_0132.jpg', 'train_0133.jpg', 'train_0134.jpg', 'train_0135.jpg', 'train_0136.jpg', 'train_0137.jpg', 'train_0138.jpg', 'train_0139.jpg', 'train_0140.jpg', 'train_0141.jpg', 'train_0142.jpg', 'train_0143.jpg', 'train_0144.jpg', 'train_0145.jpg', 'train_0146.jpg', 'train_0147.jpg', 'train_0148.jpg', 'train_0149.jpg', 'train_0150.jpg', 'train_0151.jpg', 'train_0152.jpg', 'train_0153.jpg', 'train_0154.jpg', 'train_0155.jpg', 'train_0156.jpg', 'train_0157.jpg', 'train_0158.jpg', 'train_0159.jpg', 'train_0160.jpg', 'train_0161.jpg', 'train_0162.jpg', 'train_0163.jpg', 'train_0164.jpg', 'train_0165.jpg', 'train_0166.jpg', 'train_0167.jpg', 'train_0168.jpg', 'train_0169.jpg', 'train_0170.jpg', 'train_0171.jpg', 'train_0172.jpg', 'train_0173.jpg', 'train_0174.jpg', 'train_0175.jpg', 'train_0176.jpg', 'train_0177.jpg', 'train_0178.jpg', 'train_0179.jpg', 'train_0180.jpg', 'train_0181.jpg', 'train_0182.jpg', 'train_0183.jpg', 'train_0184.jpg', 'train_0185.jpg', 'train_0186.jpg', 'train_0187.jpg', 'train_0188.jpg', 'train_0189.jpg', 'train_0190.jpg', 'train_0191.jpg', 'train_0192.jpg', 'train_0193.jpg', 'train_0194.jpg', 'train_0195.jpg', 'train_0196.jpg', 'train_0197.jpg', 'train_0198.jpg', 'train_0199.jpg', 'train_0200.jpg', 'train_0201.jpg', 'train_0202.jpg', 'train_0203.jpg', 'train_0204.jpg', 'train_0205.jpg', 'train_0206.jpg', 'train_0207.jpg', 'train_0208.jpg', 'train_0209.jpg', 'train_0210.jpg', 'train_0211.jpg', 'train_0212.jpg', 'train_0213.jpg', 'train_0214.jpg', 'train_0215.jpg', 'train_0216.jpg', 'train_0217.jpg', 'train_0218.jpg', 'train_0219.jpg', 'train_0220.jpg', 'train_0221.jpg', 'train_0222.jpg', 'train_0223.jpg', 'train_0224.jpg', 'train_0225.jpg', 'train_0226.jpg', 'train_0227.jpg', 'train_0228.jpg', 'train_0229.jpg', 'train_0230.jpg', 'train_0231.jpg', 'train_0232.jpg', 'train_0233.jpg', 'train_0234.jpg', 'train_0235.jpg', 'train_0236.jpg', 'train_0237.jpg', 'train_0238.jpg', 'train_0239.jpg', 'train_0240.jpg', 'train_0241.jpg', 'train_0242.jpg', 'train_0243.jpg', 'train_0244.jpg', 'train_0245.jpg', 'train_0246.jpg', 'train_0247.jpg', 'train_0248.jpg', 'train_0249.jpg', 'train_0250.jpg', 'train_0251.jpg', 'train_0252.jpg', 'train_0253.jpg', 'train_0254.jpg', 'train_0255.jpg', 'train_0256.jpg', 'train_0257.jpg', 'train_0258.jpg', 'train_0259.jpg', 'train_0260.jpg', 'train_0261.jpg', 'train_0262.jpg', 'train_0263.jpg', 'train_0264.jpg', 'train_0265.jpg', 'train_0266.jpg', 'train_0267.jpg', 'train_0268.jpg', 'train_0269.jpg', 'train_0270.jpg', 'train_0271.jpg', 'train_0272.jpg', 'train_0273.jpg', 'train_0274.jpg', 'train_0275.jpg', 'train_0276.jpg', 'train_0277.jpg', 'train_0278.jpg', 'train_0279.jpg', 'train_0280.jpg', 'train_0281.jpg', 'train_0282.jpg', 'train_0283.jpg', 'train_0284.jpg', 'train_0285.jpg', 'train_0286.jpg', 'train_0287.jpg', 'train_0288.jpg', 'train_0289.jpg', 'train_0290.jpg', 'train_0291.jpg', 'train_0292.jpg', 'train_0293.jpg', 'train_0294.jpg', 'train_0295.jpg', 'train_0296.jpg', 'train_0297.jpg', 'train_0298.jpg', 'train_0299.jpg', 'train_0300.jpg', 'train_0301.jpg', 'train_0302.jpg', 'train_0303.jpg', 'train_0304.jpg', 'train_0305.jpg', 'train_0306.jpg', 'train_0307.jpg', 'train_0308.jpg', 'train_0309.jpg', 'train_0310.jpg', 'train_0311.jpg', 'train_0312.jpg', 'train_0313.jpg', 'train_0314.jpg', 'train_0315.jpg', 'train_0316.jpg', 'train_0317.jpg', 'train_0318.jpg', 'train_0319.jpg', 'train_0320.jpg', 'train_0321.jpg', 'train_0322.jpg', 'train_0323.jpg', 'train_0324.jpg', 'train_0325.jpg', 'train_0326.jpg', 'train_0327.jpg', 'train_0328.jpg', 'train_0329.jpg', 'train_0330.jpg', 'train_0331.jpg', 'train_0332.jpg', 'train_0333.jpg', 'train_0334.jpg', 'train_0335.jpg', 'train_0336.jpg', 'train_0337.jpg', 'train_0338.jpg', 'train_0339.jpg', 'train_0340.jpg', 'train_0341.jpg', 'train_0342.jpg', 'train_0343.jpg', 'train_0344.jpg', 'train_0345.jpg', 'train_0346.jpg', 'train_0347.jpg', 'train_0348.jpg', 'train_0349.jpg', 'train_0350.jpg', 'train_0351.jpg', 'train_0352.jpg', 'train_0353.jpg', 'train_0354.jpg', 'train_0355.jpg', 'train_0356.jpg', 'train_0357.jpg', 'train_0358.jpg', 'train_0359.jpg', 'train_0360.jpg', 'train_0361.jpg', 'train_0362.jpg', 'train_0363.jpg', 'train_0364.jpg', 'train_0365.jpg', 'train_0366.jpg', 'train_0367.jpg', 'train_0368.jpg', 'train_0369.jpg', 'train_0370.jpg', 'train_0371.jpg', 'train_0372.jpg', 'train_0373.jpg', 'train_0374.jpg', 'train_0375.jpg', 'train_0376.jpg', 'train_0377.jpg', 'train_0378.jpg', 'train_0379.jpg', 'train_0380.jpg', 'train_0381.jpg', 'train_0382.jpg', 'train_0383.jpg', 'train_0384.jpg', 'train_0385.jpg', 'train_0386.jpg', 'train_0387.jpg', 'train_0388.jpg', 'train_0389.jpg', 'train_0390.jpg', 'train_0391.jpg', 'train_0392.jpg', 'train_0393.jpg', 'train_0394.jpg', 'train_0395.jpg', 'train_0396.jpg', 'train_0397.jpg', 'train_0398.jpg', 'train_0399.jpg', 'train_0400.jpg', 'train_0401.jpg', 'train_0402.jpg', 'train_0403.jpg', 'train_0404.jpg', 'train_0405.jpg', 'train_0406.jpg', 'train_0407.jpg', 'train_0408.jpg', 'train_0409.jpg', 'train_0410.jpg', 'train_0411.jpg', 'train_0412.jpg', 'train_0413.jpg', 'train_0414.jpg', 'train_0415.jpg', 'train_0416.jpg', 'train_0417.jpg', 'train_0418.jpg', 'train_0419.jpg', 'train_0420.jpg', 'train_0421.jpg', 'train_0422.jpg', 'train_0423.jpg', 'train_0424.jpg', 'train_0425.jpg', 'train_0426.jpg', 'train_0427.jpg', 'train_0428.jpg', 'train_0429.jpg', 'train_0430.jpg', 'train_0431.jpg', 'train_0432.jpg', 'train_0433.jpg', 'train_0434.jpg', 'train_0435.jpg', 'train_0436.jpg', 'train_0437.jpg', 'train_0438.jpg', 'train_0439.jpg', 'train_0440.jpg', 'train_0441.jpg', 'train_0442.jpg', 'train_0443.jpg', 'train_0444.jpg', 'train_0445.jpg', 'train_0446.jpg', 'train_0447.jpg', 'train_0448.jpg', 'train_0449.jpg', 'train_0450.jpg', 'train_0451.jpg', 'train_0452.jpg', 'train_0453.jpg', 'train_0454.jpg', 'train_0455.jpg', 'train_0456.jpg', 'train_0457.jpg', 'train_0458.jpg', 'train_0459.jpg', 'train_0460.jpg', 'train_0461.jpg', 'train_0462.jpg', 'train_0463.jpg', 'train_0464.jpg', 'train_0465.jpg', 'train_0466.jpg', 'train_0467.jpg', 'train_0468.jpg', 'train_0469.jpg', 'train_0470.jpg', 'train_0471.jpg', 'train_0472.jpg', 'train_0473.jpg', 'train_0474.jpg', 'train_0475.jpg', 'train_0476.jpg', 'train_0477.jpg', 'train_0478.jpg', 'train_0479.jpg', 'train_0480.jpg', 'train_0481.jpg', 'train_0482.jpg', 'train_0483.jpg', 'train_0484.jpg', 'train_0485.jpg', 'train_0486.jpg', 'train_0487.jpg', 'train_0488.jpg', 'train_0489.jpg', 'train_0490.jpg', 'train_0491.jpg', 'train_0492.jpg', 'train_0493.jpg', 'train_0494.jpg', 'train_0495.jpg', 'train_0496.jpg', 'train_0497.jpg', 'train_0498.jpg', 'train_0499.jpg', 'train_0500.jpg', 'train_0501.jpg', 'train_0502.jpg', 'train_0503.jpg', 'train_0504.jpg', 'train_0505.jpg', 'train_0506.jpg', 'train_0507.jpg', 'train_0508.jpg', 'train_0509.jpg', 'train_0510.jpg', 'train_0511.jpg', 'train_0512.jpg', 'train_0513.jpg', 'train_0514.jpg', 'train_0515.jpg', 'train_0516.jpg', 'train_0517.jpg', 'train_0518.jpg', 'train_0519.jpg', 'train_0520.jpg', 'train_0521.jpg', 'train_0522.jpg', 'train_0523.jpg', 'train_0524.jpg', 'train_0525.jpg', 'train_0526.jpg', 'train_0527.jpg', 'train_0528.jpg', 'train_0529.jpg', 'train_0530.jpg', 'train_0531.jpg', 'train_0532.jpg', 'train_0533.jpg', 'train_0534.jpg', 'train_0535.jpg', 'train_0536.jpg', 'train_0537.jpg', 'train_0538.jpg', 'train_0539.jpg', 'train_0540.jpg', 'train_0541.jpg', 'train_0542.jpg', 'train_0543.jpg', 'train_0544.jpg', 'train_0545.jpg', 'train_0546.jpg', 'train_0547.jpg', 'train_0548.jpg', 'train_0549.jpg', 'train_0550.jpg', 'train_0551.jpg', 'train_0552.jpg', 'train_0553.jpg', 'train_0554.jpg', 'train_0555.jpg', 'train_0556.jpg', 'train_0557.jpg', 'train_0558.jpg', 'train_0559.jpg', 'train_0560.jpg', 'train_0561.jpg', 'train_0562.jpg', 'train_0563.jpg', 'train_0564.jpg', 'train_0565.jpg', 'train_0566.jpg', 'train_0567.jpg', 'train_0568.jpg', 'train_0569.jpg', 'train_0570.jpg', 'train_0571.jpg', 'train_0572.jpg', 'train_0573.jpg', 'train_0574.jpg', 'train_0575.jpg', 'train_0576.jpg', 'train_0577.jpg', 'train_0578.jpg', 'train_0579.jpg', 'train_0580.jpg', 'train_0581.jpg', 'train_0582.jpg', 'train_0583.jpg', 'train_0584.jpg', 'train_0585.jpg', 'train_0586.jpg', 'train_0587.jpg', 'train_0588.jpg', 'train_0589.jpg', 'train_0590.jpg', 'train_0591.jpg', 'train_0592.jpg', 'train_0593.jpg', 'train_0594.jpg', 'train_0595.jpg', 'train_0596.jpg', 'train_0597.jpg', 'train_0598.jpg', 'train_0599.jpg', 'train_0600.jpg', 'train_0601.jpg', 'train_0602.jpg', 'train_0603.jpg', 'train_0604.jpg', 'train_0605.jpg', 'train_0606.jpg', 'train_0607.jpg', 'train_0608.jpg', 'train_0609.jpg', 'train_0610.jpg', 'train_0611.jpg', 'train_0612.jpg', 'train_0613.jpg', 'train_0614.jpg', 'train_0615.jpg', 'train_0616.jpg', 'train_0617.jpg', 'train_0618.jpg', 'train_0619.jpg', 'train_0620.jpg', 'train_0621.jpg', 'train_0622.jpg', 'train_0623.jpg', 'train_0624.jpg', 'train_0625.jpg', 'train_0626.jpg', 'train_0627.jpg', 'train_0628.jpg', 'train_0629.jpg', 'train_0630.jpg', 'train_0631.jpg', 'train_0632.jpg', 'train_0633.jpg', 'train_0634.jpg', 'train_0635.jpg', 'train_0636.jpg', 'train_0637.jpg', 'train_0638.jpg', 'train_0639.jpg', 'train_0640.jpg', 'train_0641.jpg', 'train_0642.jpg', 'train_0643.jpg', 'train_0644.jpg', 'train_0645.jpg', 'train_0646.jpg', 'train_0647.jpg', 'train_0648.jpg', 'train_0649.jpg', 'train_0650.jpg', 'train_0651.jpg', 'train_0652.jpg', 'train_0653.jpg', 'train_0654.jpg', 'train_0655.jpg', 'train_0656.jpg', 'train_0657.jpg', 'train_0658.jpg', 'train_0659.jpg', 'train_0660.jpg', 'train_0661.jpg', 'train_0662.jpg', 'train_0663.jpg', 'train_0664.jpg', 'train_0665.jpg', 'train_0666.jpg', 'train_0667.jpg', 'train_0668.jpg', 'train_0669.jpg', 'train_0670.jpg', 'train_0671.jpg', 'train_0672.jpg', 'train_0673.jpg', 'train_0674.jpg', 'train_0675.jpg', 'train_0676.jpg', 'train_0677.jpg', 'train_0678.jpg', 'train_0679.jpg', 'train_0680.jpg', 'train_0681.jpg', 'train_0682.jpg', 'train_0683.jpg', 'train_0684.jpg', 'train_0685.jpg', 'train_0686.jpg', 'train_0687.jpg', 'train_0688.jpg', 'train_0689.jpg', 'train_0690.jpg', 'train_0691.jpg', 'train_0692.jpg', 'train_0693.jpg', 'train_0694.jpg', 'train_0695.jpg', 'train_0696.jpg', 'train_0697.jpg', 'train_0698.jpg', 'train_0699.jpg', 'train_0700.jpg', 'train_0701.jpg', 'train_0702.jpg', 'train_0703.jpg', 'train_0704.jpg', 'train_0705.jpg', 'train_0706.jpg', 'train_0707.jpg', 'train_0708.jpg', 'train_0709.jpg', 'train_0710.jpg', 'train_0711.jpg', 'train_0712.jpg', 'train_0713.jpg', 'train_0714.jpg', 'train_0715.jpg', 'train_0716.jpg', 'train_0717.jpg', 'train_0718.jpg', 'train_0719.jpg', 'train_0720.jpg', 'train_0721.jpg', 'train_0722.jpg', 'train_0723.jpg', 'train_0724.jpg', 'train_0725.jpg', 'train_0726.jpg', 'train_0727.jpg', 'train_0728.jpg', 'train_0729.jpg', 'train_0730.jpg', 'train_0731.jpg', 'train_0732.jpg', 'train_0733.jpg', 'train_0734.jpg', 'train_0735.jpg', 'train_0736.jpg', 'train_0737.jpg', 'train_0738.jpg', 'train_0739.jpg', 'train_0740.jpg', 'train_0741.jpg', 'train_0742.jpg', 'train_0743.jpg', 'train_0744.jpg', 'train_0745.jpg', 'train_0746.jpg', 'train_0747.jpg', 'train_0748.jpg', 'train_0749.jpg', 'train_0750.jpg', 'train_0751.jpg', 'train_0752.jpg', 'train_0753.jpg', 'train_0754.jpg', 'train_0755.jpg', 'train_0756.jpg', 'train_0757.jpg', 'train_0758.jpg', 'train_0759.jpg', 'train_0760.jpg', 'train_0761.jpg', 'train_0762.jpg', 'train_0763.jpg', 'train_0764.jpg', 'train_0765.jpg', 'train_0766.jpg', 'train_0767.jpg', 'train_0768.jpg', 'train_0769.jpg', 'train_0770.jpg', 'train_0771.jpg', 'train_0772.jpg', 'train_0773.jpg', 'train_0774.jpg', 'train_0775.jpg', 'train_0776.jpg', 'train_0777.jpg', 'train_0778.jpg', 'train_0779.jpg', 'train_0780.jpg', 'train_0781.jpg', 'train_0782.jpg', 'train_0783.jpg', 'train_0784.jpg', 'train_0785.jpg', 'train_0786.jpg', 'train_0787.jpg', 'train_0788.jpg', 'train_0789.jpg', 'train_0790.jpg', 'train_0791.jpg', 'train_0792.jpg', 'train_0793.jpg', 'train_0794.jpg', 'train_0795.jpg', 'train_0796.jpg', 'train_0797.jpg', 'train_0798.jpg', 'train_0799.jpg', 'train_0800.jpg', 'train_0801.jpg', 'train_0802.jpg', 'train_0803.jpg', 'train_0804.jpg', 'train_0805.jpg', 'train_0806.jpg', 'train_0807.jpg', 'train_0808.jpg', 'train_0809.jpg', 'train_0810.jpg', 'train_0811.jpg', 'train_0812.jpg', 'train_0813.jpg', 'train_0814.jpg', 'train_0815.jpg', 'train_0816.jpg', 'train_0817.jpg', 'train_0818.jpg', 'train_0819.jpg', 'train_0820.jpg', 'train_0821.jpg', 'train_0822.jpg', 'train_0823.jpg', 'train_0824.jpg', 'train_0825.jpg', 'train_0826.jpg', 'train_0827.jpg', 'train_0828.jpg', 'train_0829.jpg', 'train_0830.jpg', 'train_0831.jpg', 'train_0832.jpg', 'train_0833.jpg', 'train_0834.jpg', 'train_0835.jpg', 'train_0836.jpg', 'train_0837.jpg', 'train_0838.jpg', 'train_0839.jpg', 'train_0840.jpg', 'train_0841.jpg', 'train_0842.jpg', 'train_0843.jpg', 'train_0844.jpg', 'train_0845.jpg', 'train_0846.jpg', 'train_0847.jpg', 'train_0848.jpg', 'train_0849.jpg', 'train_0850.jpg', 'train_0851.jpg', 'train_0852.jpg', 'train_0853.jpg', 'train_0854.jpg', 'train_0855.jpg', 'train_0856.jpg', 'train_0857.jpg', 'train_0858.jpg', 'train_0859.jpg', 'train_0860.jpg', 'train_0861.jpg', 'train_0862.jpg', 'train_0863.jpg', 'train_0864.jpg', 'train_0865.jpg', 'train_0866.jpg', 'train_0867.jpg', 'train_0868.jpg', 'train_0869.jpg', 'train_0870.jpg', 'train_0871.jpg', 'train_0872.jpg', 'train_0873.jpg', 'train_0874.jpg', 'train_0875.jpg', 'train_0876.jpg', 'train_0877.jpg', 'train_0878.jpg', 'train_0879.jpg', 'train_0880.jpg', 'train_0881.jpg', 'train_0882.jpg', 'train_0883.jpg', 'train_0884.jpg', 'train_0885.jpg', 'train_0886.jpg', 'train_0887.jpg', 'train_0888.jpg', 'train_0889.jpg', 'train_0890.jpg', 'train_0891.jpg', 'train_0892.jpg', 'train_0893.jpg', 'train_0894.jpg', 'train_0895.jpg', 'train_0896.jpg', 'train_0897.jpg', 'train_0898.jpg', 'train_0899.jpg', 'train_0900.jpg', 'train_0901.jpg', 'train_0902.jpg', 'train_0903.jpg', 'train_0904.jpg', 'train_0905.jpg', 'train_0906.jpg', 'train_0907.jpg', 'train_0908.jpg', 'train_0909.jpg', 'train_0910.jpg', 'train_0911.jpg', 'train_0912.jpg', 'train_0913.jpg', 'train_0914.jpg', 'train_0915.jpg', 'train_0916.jpg', 'train_0917.jpg', 'train_0918.jpg', 'train_0919.jpg', 'train_0920.jpg', 'train_0921.jpg', 'train_0922.jpg', 'train_0923.jpg', 'train_0924.jpg', 'train_0925.jpg', 'train_0926.jpg', 'train_0927.jpg', 'train_0928.jpg', 'train_0929.jpg', 'train_0930.jpg', 'train_0931.jpg', 'train_0932.jpg', 'train_0933.jpg', 'train_0934.jpg', 'train_0935.jpg', 'train_0936.jpg', 'train_0937.jpg', 'train_0938.jpg', 'train_0939.jpg', 'train_0940.jpg', 'train_0941.jpg', 'train_0942.jpg', 'train_0943.jpg', 'train_0944.jpg', 'train_0945.jpg', 'train_0946.jpg', 'train_0947.jpg', 'train_0948.jpg', 'train_0949.jpg', 'train_0950.jpg', 'train_0951.jpg', 'train_0952.jpg', 'train_0953.jpg', 'train_0954.jpg', 'train_0955.jpg', 'train_0956.jpg', 'train_0957.jpg', 'train_0958.jpg', 'train_0959.jpg', 'train_0960.jpg', 'train_0961.jpg', 'train_0962.jpg', 'train_0963.jpg', 'train_0964.jpg', 'train_0965.jpg', 'train_0966.jpg', 'train_0967.jpg', 'train_0968.jpg', 'train_0969.jpg', 'train_0970.jpg', 'train_0971.jpg', 'train_0972.jpg', 'train_0973.jpg', 'train_0974.jpg', 'train_0975.jpg', 'train_0976.jpg', 'train_0977.jpg', 'train_0978.jpg', 'train_0979.jpg', 'train_0980.jpg', 'train_0981.jpg', 'train_0982.jpg', 'train_0983.jpg', 'train_0984.jpg', 'train_0985.jpg', 'train_0986.jpg', 'train_0987.jpg', 'train_0988.jpg', 'train_0989.jpg', 'train_0990.jpg', 'train_0991.jpg', 'train_0992.jpg', 'train_0993.jpg', 'train_0994.jpg', 'train_0995.jpg', 'train_0996.jpg', 'train_0997.jpg', 'train_0998.jpg', 'train_0999.jpg', 'train_1000.jpg', 'train_1001.jpg', 'train_1002.jpg', 'train_1003.jpg', 'train_1004.jpg', 'train_1005.jpg', 'train_1006.jpg', 'train_1007.jpg', 'train_1008.jpg', 'train_1009.jpg', 'train_1010.jpg', 'train_1011.jpg', 'train_1012.jpg', 'train_1013.jpg', 'train_1014.jpg', 'train_1015.jpg', 'train_1016.jpg', 'train_1017.jpg', 'train_1018.jpg', 'train_1019.jpg', 'train_1020.jpg', 'train_1021.jpg', 'train_1022.jpg', 'train_1023.jpg', 'train_1024.jpg', 'train_1025.jpg', 'train_1026.jpg', 'train_1027.jpg', 'train_1028.jpg', 'train_1029.jpg', 'train_1030.jpg', 'train_1031.jpg', 'train_1032.jpg', 'train_1033.jpg', 'train_1034.jpg', 'train_1035.jpg', 'train_1036.jpg', 'train_1037.jpg', 'train_1038.jpg', 'train_1039.jpg', 'train_1040.jpg', 'train_1041.jpg', 'train_1042.jpg', 'train_1043.jpg', 'train_1044.jpg', 'train_1045.jpg', 'train_1046.jpg', 'train_1047.jpg', 'train_1048.jpg', 'train_1049.jpg', 'train_1050.jpg', 'train_1051.jpg', 'train_1052.jpg', 'train_1053.jpg', 'train_1054.jpg', 'train_1055.jpg', 'train_1056.jpg', 'train_1057.jpg', 'train_1058.jpg', 'train_1059.jpg', 'train_1060.jpg', 'train_1061.jpg', 'train_1062.jpg', 'train_1063.jpg', 'train_1064.jpg', 'train_1065.jpg', 'train_1066.jpg', 'train_1067.jpg', 'train_1068.jpg', 'train_1069.jpg', 'train_1070.jpg', 'train_1071.jpg', 'train_1072.jpg', 'train_1073.jpg', 'train_1074.jpg', 'train_1075.jpg', 'train_1076.jpg', 'train_1077.jpg', 'train_1078.jpg', 'train_1079.jpg', 'train_1080.jpg', 'train_1081.jpg', 'train_1082.jpg', 'train_1083.jpg', 'train_1084.jpg', 'train_1085.jpg', 'train_1086.jpg', 'train_1087.jpg', 'train_1088.jpg', 'train_1089.jpg', 'train_1090.jpg', 'train_1091.jpg', 'train_1092.jpg', 'train_1093.jpg', 'train_1094.jpg', 'train_1095.jpg', 'train_1096.jpg', 'train_1097.jpg', 'train_1098.jpg', 'train_1099.jpg', 'train_1100.jpg', 'train_1101.jpg', 'train_1102.jpg', 'train_1103.jpg', 'train_1104.jpg', 'train_1105.jpg', 'train_1106.jpg', 'train_1107.jpg', 'train_1108.jpg', 'train_1109.jpg', 'train_1110.jpg', 'train_1111.jpg', 'train_1112.jpg', 'train_1113.jpg', 'train_1114.jpg', 'train_1115.jpg', 'train_1116.jpg', 'train_1117.jpg', 'train_1118.jpg', 'train_1119.jpg', 'train_1120.jpg', 'train_1121.jpg', 'train_1122.jpg', 'train_1123.jpg', 'train_1124.jpg', 'train_1125.jpg', 'train_1126.jpg', 'train_1127.jpg', 'train_1128.jpg', 'train_1129.jpg', 'train_1130.jpg', 'train_1131.jpg', 'train_1132.jpg', 'train_1133.jpg', 'train_1134.jpg', 'train_1135.jpg', 'train_1136.jpg', 'train_1137.jpg', 'train_1138.jpg', 'train_1139.jpg', 'train_1140.jpg', 'train_1141.jpg', 'train_1142.jpg', 'train_1143.jpg', 'train_1144.jpg', 'train_1145.jpg', 'train_1146.jpg', 'train_1147.jpg', 'train_1148.jpg', 'train_1149.jpg', 'train_1150.jpg', 'train_1151.jpg', 'train_1152.jpg', 'train_1153.jpg', 'train_1154.jpg', 'train_1155.jpg', 'train_1156.jpg', 'train_1157.jpg', 'train_1158.jpg', 'train_1159.jpg', 'train_1160.jpg', 'train_1161.jpg', 'train_1162.jpg', 'train_1163.jpg', 'train_1164.jpg', 'train_1165.jpg', 'train_1166.jpg', 'train_1167.jpg', 'train_1168.jpg', 'train_1169.jpg', 'train_1170.jpg', 'train_1171.jpg', 'train_1172.jpg', 'train_1173.jpg', 'train_1174.jpg', 'train_1175.jpg', 'train_1176.jpg', 'train_1177.jpg', 'train_1178.jpg', 'train_1179.jpg', 'train_1180.jpg', 'train_1181.jpg', 'train_1182.jpg', 'train_1183.jpg', 'train_1184.jpg', 'train_1185.jpg', 'train_1186.jpg', 'train_1187.jpg', 'train_1188.jpg', 'train_1189.jpg', 'train_1190.jpg', 'train_1191.jpg', 'train_1192.jpg', 'train_1193.jpg', 'train_1194.jpg', 'train_1195.jpg', 'train_1196.jpg', 'train_1197.jpg', 'train_1198.jpg', 'train_1199.jpg', 'train_1200.jpg', 'train_1201.jpg', 'train_1202.jpg', 'train_1203.jpg', 'train_1204.jpg', 'train_1205.jpg', 'train_1206.jpg', 'train_1207.jpg', 'train_1208.jpg', 'train_1209.jpg', 'train_1210.jpg', 'train_1211.jpg', 'train_1212.jpg', 'train_1213.jpg', 'train_1214.jpg', 'train_1215.jpg', 'train_1216.jpg', 'train_1217.jpg', 'train_1218.jpg', 'train_1219.jpg', 'train_1220.jpg', 'train_1221.jpg', 'train_1222.jpg', 'train_1223.jpg', 'train_1224.jpg', 'train_1225.jpg', 'train_1226.jpg', 'train_1227.jpg', 'train_1228.jpg', 'train_1229.jpg', 'train_1230.jpg', 'train_1231.jpg', 'train_1232.jpg', 'train_1233.jpg', 'train_1234.jpg', 'train_1235.jpg', 'train_1236.jpg', 'train_1237.jpg', 'train_1238.jpg', 'train_1239.jpg', 'train_1240.jpg', 'train_1241.jpg', 'train_1242.jpg', 'train_1243.jpg', 'train_1244.jpg', 'train_1245.jpg', 'train_1246.jpg', 'train_1247.jpg', 'train_1248.jpg', 'train_1249.jpg', 'train_1250.jpg', 'train_1251.jpg', 'train_1252.jpg', 'train_1253.jpg', 'train_1254.jpg', 'train_1255.jpg', 'train_1256.jpg', 'train_1257.jpg', 'train_1258.jpg', 'train_1259.jpg', 'train_1260.jpg', 'train_1261.jpg', 'train_1262.jpg', 'train_1263.jpg', 'train_1264.jpg', 'train_1265.jpg', 'train_1266.jpg', 'train_1267.jpg', 'train_1268.jpg', 'train_1269.jpg', 'train_1270.jpg', 'train_1271.jpg', 'train_1272.jpg', 'train_1273.jpg', 'train_1274.jpg', 'train_1275.jpg', 'train_1276.jpg', 'train_1277.jpg', 'train_1278.jpg', 'train_1279.jpg', 'train_1280.jpg', 'train_1281.jpg', 'train_1282.jpg', 'train_1283.jpg', 'train_1284.jpg', 'train_1285.jpg', 'train_1286.jpg', 'train_1287.jpg', 'train_1288.jpg', 'train_1289.jpg', 'train_1290.jpg', 'train_1291.jpg', 'train_1292.jpg', 'train_1293.jpg', 'train_1294.jpg', 'train_1295.jpg', 'train_1296.jpg', 'train_1297.jpg', 'train_1298.jpg', 'train_1299.jpg', 'train_1300.jpg', 'train_1301.jpg', 'train_1302.jpg', 'train_1303.jpg', 'train_1304.jpg', 'train_1305.jpg', 'train_1306.jpg', 'train_1307.jpg', 'train_1308.jpg', 'train_1309.jpg', 'train_1310.jpg', 'train_1311.jpg', 'train_1312.jpg', 'train_1313.jpg', 'train_1314.jpg', 'train_1315.jpg', 'train_1316.jpg', 'train_1317.jpg', 'train_1318.jpg', 'train_1319.jpg', 'train_1320.jpg', 'train_1321.jpg', 'train_1322.jpg', 'train_1323.jpg', 'train_1324.jpg', 'train_1325.jpg', 'train_1326.jpg', 'train_1327.jpg', 'train_1328.jpg', 'train_1329.jpg', 'train_1330.jpg', 'train_1331.jpg', 'train_1332.jpg', 'train_1333.jpg', 'train_1334.jpg', 'train_1335.jpg', 'train_1336.jpg', 'train_1337.jpg', 'train_1338.jpg', 'train_1339.jpg', 'train_1340.jpg', 'train_1341.jpg', 'train_1342.jpg', 'train_1343.jpg', 'train_1344.jpg', 'train_1345.jpg', 'train_1346.jpg', 'train_1347.jpg', 'train_1348.jpg', 'train_1349.jpg', 'train_1350.jpg', 'train_1351.jpg', 'train_1352.jpg', 'train_1353.jpg', 'train_1354.jpg', 'train_1355.jpg', 'train_1356.jpg', 'train_1357.jpg', 'train_1358.jpg', 'train_1359.jpg', 'train_1360.jpg', 'train_1361.jpg', 'train_1362.jpg', 'train_1363.jpg', 'train_1364.jpg', 'train_1365.jpg', 'train_1366.jpg', 'train_1367.jpg', 'train_1368.jpg', 'train_1369.jpg', 'train_1370.jpg', 'train_1371.jpg', 'train_1372.jpg', 'train_1373.jpg', 'train_1374.jpg', 'train_1375.jpg', 'train_1376.jpg', 'train_1377.jpg', 'train_1378.jpg', 'train_1379.jpg', 'train_1380.jpg', 'train_1381.jpg', 'train_1382.jpg', 'train_1383.jpg', 'train_1384.jpg', 'train_1385.jpg', 'train_1386.jpg', 'train_1387.jpg', 'train_1388.jpg', 'train_1389.jpg', 'train_1390.jpg', 'train_1391.jpg', 'train_1392.jpg', 'train_1393.jpg', 'train_1394.jpg', 'train_1395.jpg', 'train_1396.jpg', 'train_1397.jpg', 'train_1398.jpg', 'train_1399.jpg', 'train_1400.jpg', 'train_1401.jpg', 'train_1402.jpg', 'train_1403.jpg', 'train_1404.jpg', 'train_1405.jpg', 'train_1406.jpg', 'train_1407.jpg', 'train_1408.jpg', 'train_1409.jpg', 'train_1410.jpg', 'train_1411.jpg', 'train_1412.jpg', 'train_1413.jpg', 'train_1414.jpg', 'train_1415.jpg', 'train_1416.jpg', 'train_1417.jpg', 'train_1418.jpg', 'train_1419.jpg', 'train_1420.jpg', 'train_1421.jpg', 'train_1422.jpg', 'train_1423.jpg', 'train_1424.jpg', 'train_1425.jpg', 'train_1426.jpg', 'train_1427.jpg', 'train_1428.jpg', 'train_1429.jpg', 'train_1430.jpg', 'train_1431.jpg', 'train_1432.jpg', 'train_1433.jpg', 'train_1434.jpg', 'train_1435.jpg', 'train_1436.jpg', 'train_1437.jpg', 'train_1438.jpg', 'train_1439.jpg', 'train_1440.jpg', 'train_1441.jpg', 'train_1442.jpg', 'train_1443.jpg', 'train_1444.jpg', 'train_1445.jpg', 'train_1446.jpg', 'train_1447.jpg', 'train_1448.jpg', 'train_1449.jpg', 'train_1450.jpg', 'train_1451.jpg', 'train_1452.jpg', 'train_1453.jpg', 'train_1454.jpg', 'train_1455.jpg', 'train_1456.jpg', 'train_1457.jpg', 'train_1458.jpg', 'train_1459.jpg', 'train_1460.jpg', 'train_1461.jpg', 'train_1462.jpg', 'train_1463.jpg', 'train_1464.jpg', 'train_1465.jpg', 'train_1466.jpg', 'train_1467.jpg', 'train_1468.jpg', 'train_1469.jpg', 'train_1470.jpg', 'train_1471.jpg', 'train_1472.jpg', 'train_1473.jpg', 'train_1474.jpg', 'train_1475.jpg', 'train_1476.jpg', 'train_1477.jpg', 'train_1478.jpg', 'train_1479.jpg', 'train_1480.jpg', 'train_1481.jpg', 'train_1482.jpg', 'train_1483.jpg', 'train_1484.jpg', 'train_1485.jpg', 'train_1486.jpg', 'train_1487.jpg', 'train_1488.jpg', 'train_1489.jpg', 'train_1490.jpg', 'train_1491.jpg', 'train_1492.jpg', 'train_1493.jpg', 'train_1494.jpg', 'train_1495.jpg', 'train_1496.jpg', 'train_1497.jpg', 'train_1498.jpg', 'train_1499.jpg', 'train_1500.jpg', 'train_1501.jpg', 'train_1502.jpg', 'train_1503.jpg', 'train_1504.jpg', 'train_1505.jpg', 'train_1506.jpg', 'train_1507.jpg', 'train_1508.jpg', 'train_1509.jpg', 'train_1510.jpg', 'train_1511.jpg', 'train_1512.jpg', 'train_1513.jpg', 'train_1514.jpg', 'train_1515.jpg', 'train_1516.jpg', 'train_1517.jpg', 'train_1518.jpg', 'train_1519.jpg', 'train_1520.jpg', 'train_1521.jpg', 'train_1522.jpg', 'train_1523.jpg', 'train_1524.jpg', 'train_1525.jpg', 'train_1526.jpg', 'train_1527.jpg', 'train_1528.jpg', 'train_1529.jpg', 'train_1530.jpg', 'train_1531.jpg', 'train_1532.jpg', 'train_1533.jpg', 'train_1534.jpg', 'train_1535.jpg', 'train_1536.jpg', 'train_1537.jpg', 'train_1538.jpg', 'train_1539.jpg', 'train_1540.jpg', 'train_1541.jpg', 'train_1542.jpg', 'train_1543.jpg', 'train_1544.jpg', 'train_1545.jpg', 'train_1546.jpg', 'train_1547.jpg', 'train_1548.jpg', 'train_1549.jpg', 'train_1550.jpg', 'train_1551.jpg', 'train_1552.jpg', 'train_1553.jpg', 'train_1554.jpg', 'train_1555.jpg', 'train_1556.jpg', 'train_1557.jpg', 'train_1558.jpg', 'train_1559.jpg', 'train_1560.jpg', 'train_1561.jpg', 'train_1562.jpg', 'train_1563.jpg', 'train_1564.jpg', 'train_1565.jpg', 'train_1566.jpg', 'train_1567.jpg', 'train_1568.jpg', 'train_1569.jpg', 'train_1570.jpg', 'train_1571.jpg', 'train_1572.jpg', 'train_1573.jpg', 'train_1574.jpg', 'train_1575.jpg', 'train_1576.jpg', 'train_1577.jpg', 'train_1578.jpg', 'train_1579.jpg', 'train_1580.jpg', 'train_1581.jpg', 'train_1582.jpg', 'train_1583.jpg', 'train_1584.jpg', 'train_1585.jpg', 'train_1586.jpg', 'train_1587.jpg', 'train_1588.jpg', 'train_1589.jpg', 'train_1590.jpg', 'train_1591.jpg', 'train_1592.jpg', 'train_1593.jpg', 'train_1594.jpg', 'train_1595.jpg', 'train_1596.jpg', 'train_1597.jpg', 'train_1598.jpg', 'train_1599.jpg', 'train_1600.jpg', 'train_1601.jpg', 'train_1602.jpg', 'train_1603.jpg', 'train_1604.jpg', 'train_1605.jpg', 'train_1606.jpg', 'train_1607.jpg', 'train_1608.jpg', 'train_1609.jpg', 'train_1610.jpg', 'train_1611.jpg', 'train_1612.jpg', 'train_1613.jpg', 'train_1614.jpg', 'train_1615.jpg', 'train_1616.jpg', 'train_1617.jpg', 'train_1618.jpg', 'train_1619.jpg', 'train_1620.jpg', 'train_1621.jpg', 'train_1622.jpg', 'train_1623.jpg', 'train_1624.jpg', 'train_1625.jpg', 'train_1626.jpg', 'train_1627.jpg', 'train_1628.jpg', 'train_1629.jpg', 'train_1630.jpg', 'train_1631.jpg', 'train_1632.jpg', 'train_1633.jpg', 'train_1634.jpg', 'train_1635.jpg', 'train_1636.jpg', 'train_1637.jpg', 'train_1638.jpg', 'train_1639.jpg', 'train_1640.jpg', 'train_1641.jpg', 'train_1642.jpg', 'train_1643.jpg', 'train_1644.jpg', 'train_1645.jpg', 'train_1646.jpg', 'train_1647.jpg', 'train_1648.jpg', 'train_1649.jpg', 'train_1650.jpg', 'train_1651.jpg', 'train_1652.jpg', 'train_1653.jpg', 'train_1654.jpg', 'train_1655.jpg', 'train_1656.jpg', 'train_1657.jpg', 'train_1658.jpg', 'train_1659.jpg', 'train_1660.jpg', 'train_1661.jpg', 'train_1662.jpg', 'train_1663.jpg', 'train_1664.jpg', 'train_1665.jpg', 'train_1666.jpg', 'train_1667.jpg', 'train_1668.jpg', 'train_1669.jpg', 'train_1670.jpg', 'train_1671.jpg', 'train_1672.jpg', 'train_1673.jpg', 'train_1674.jpg', 'train_1675.jpg', 'train_1676.jpg', 'train_1677.jpg', 'train_1678.jpg', 'train_1679.jpg', 'train_1680.jpg', 'train_1681.jpg', 'train_1682.jpg', 'train_1683.jpg', 'train_1684.jpg', 'train_1685.jpg', 'train_1686.jpg', 'train_1687.jpg', 'train_1688.jpg', 'train_1689.jpg', 'train_1690.jpg', 'train_1691.jpg', 'train_1692.jpg', 'train_1693.jpg', 'train_1694.jpg', 'train_1695.jpg', 'train_1696.jpg', 'train_1697.jpg', 'train_1698.jpg', 'train_1699.jpg', 'train_1700.jpg', 'train_1701.jpg', 'train_1702.jpg', 'train_1703.jpg', 'train_1704.jpg', 'train_1705.jpg', 'train_1706.jpg', 'train_1707.jpg', 'train_1708.jpg', 'train_1709.jpg', 'train_1710.jpg', 'train_1711.jpg', 'train_1712.jpg', 'train_1713.jpg', 'train_1714.jpg', 'train_1715.jpg', 'train_1716.jpg', 'train_1717.jpg', 'train_1718.jpg', 'train_1719.jpg', 'train_1720.jpg', 'train_1721.jpg', 'train_1722.jpg', 'train_1723.jpg', 'train_1724.jpg', 'train_1725.jpg', 'train_1726.jpg', 'train_1727.jpg', 'train_1728.jpg', 'train_1729.jpg', 'train_1730.jpg', 'train_1731.jpg', 'train_1732.jpg', 'train_1733.jpg', 'train_1734.jpg', 'train_1735.jpg', 'train_1736.jpg', 'train_1737.jpg', 'train_1738.jpg', 'train_1739.jpg', 'train_1740.jpg', 'train_1741.jpg', 'train_1742.jpg', 'train_1743.jpg', 'train_1744.jpg', 'train_1745.jpg', 'train_1746.jpg', 'train_1747.jpg', 'train_1748.jpg', 'train_1749.jpg', 'train_1750.jpg', 'train_1751.jpg', 'train_1752.jpg', 'train_1753.jpg', 'train_1754.jpg', 'train_1755.jpg', 'train_1756.jpg', 'train_1757.jpg', 'train_1758.jpg', 'train_1759.jpg', 'train_1760.jpg', 'train_1761.jpg', 'train_1762.jpg', 'train_1763.jpg', 'train_1764.jpg', 'train_1765.jpg', 'train_1766.jpg', 'train_1767.jpg', 'train_1768.jpg', 'train_1769.jpg', 'train_1770.jpg', 'train_1771.jpg', 'train_1772.jpg', 'train_1773.jpg', 'train_1774.jpg', 'train_1775.jpg', 'train_1776.jpg', 'train_1777.jpg', 'train_1778.jpg', 'train_1779.jpg', 'train_1780.jpg', 'train_1781.jpg', 'train_1782.jpg', 'train_1783.jpg', 'train_1784.jpg', 'train_1785.jpg', 'train_1786.jpg', 'train_1787.jpg', 'train_1788.jpg', 'train_1789.jpg', 'train_1790.jpg', 'train_1791.jpg', 'train_1792.jpg', 'train_1793.jpg', 'train_1794.jpg', 'train_1795.jpg', 'train_1796.jpg', 'train_1797.jpg', 'train_1798.jpg', 'train_1799.jpg', 'train_1800.jpg', 'train_1801.jpg', 'train_1802.jpg', 'train_1803.jpg', 'train_1804.jpg', 'train_1805.jpg', 'train_1806.jpg', 'train_1807.jpg', 'train_1808.jpg', 'train_1809.jpg', 'train_1810.jpg', 'train_1811.jpg', 'train_1812.jpg', 'train_1813.jpg', 'train_1814.jpg', 'train_1815.jpg', 'train_1816.jpg', 'train_1817.jpg', 'train_1818.jpg', 'train_1819.jpg', 'train_1820.jpg', 'train_1821.jpg', 'train_1822.jpg', 'train_1823.jpg', 'train_1824.jpg', 'train_1825.jpg', 'train_1826.jpg', 'train_1827.jpg', 'train_1828.jpg', 'train_1829.jpg', 'train_1830.jpg', 'train_1831.jpg', 'train_1832.jpg', 'train_1833.jpg', 'train_1834.jpg', 'train_1835.jpg', 'train_1836.jpg', 'train_1837.jpg', 'train_1838.jpg', 'train_1839.jpg', 'train_1840.jpg', 'train_1841.jpg', 'train_1842.jpg', 'train_1843.jpg', 'train_1844.jpg', 'train_1845.jpg', 'train_1846.jpg', 'train_1847.jpg', 'train_1848.jpg', 'train_1849.jpg', 'train_1850.jpg', 'train_1851.jpg', 'train_1852.jpg', 'train_1853.jpg', 'train_1854.jpg', 'train_1855.jpg', 'train_1856.jpg', 'train_1857.jpg', 'train_1858.jpg', 'train_1859.jpg', 'train_1860.jpg', 'train_1861.jpg', 'train_1862.jpg', 'train_1863.jpg', 'train_1864.jpg', 'train_1865.jpg', 'train_1866.jpg', 'train_1867.jpg', 'train_1868.jpg', 'train_1869.jpg', 'train_1870.jpg', 'train_1871.jpg', 'train_1872.jpg', 'train_1873.jpg', 'train_1874.jpg', 'train_1875.jpg', 'train_1876.jpg', 'train_1877.jpg', 'train_1878.jpg', 'train_1879.jpg', 'train_1880.jpg', 'train_1881.jpg', 'train_1882.jpg', 'train_1883.jpg', 'train_1884.jpg', 'train_1885.jpg', 'train_1886.jpg', 'train_1887.jpg', 'train_1888.jpg', 'train_1889.jpg', 'train_1890.jpg', 'train_1891.jpg', 'train_1892.jpg', 'train_1893.jpg', 'train_1894.jpg', 'train_1895.jpg', 'train_1896.jpg', 'train_1897.jpg', 'train_1898.jpg', 'train_1899.jpg', 'train_1900.jpg', 'train_1901.jpg', 'train_1902.jpg', 'train_1903.jpg', 'train_1904.jpg', 'train_1905.jpg', 'train_1906.jpg', 'train_1907.jpg', 'train_1908.jpg', 'train_1909.jpg', 'train_1910.jpg', 'train_1911.jpg', 'train_1912.jpg', 'train_1913.jpg', 'train_1914.jpg', 'train_1915.jpg', 'train_1916.jpg', 'train_1917.jpg', 'train_1918.jpg', 'train_1919.jpg', 'train_1920.jpg', 'train_1921.jpg', 'train_1922.jpg', 'train_1923.jpg', 'train_1924.jpg', 'train_1925.jpg', 'train_1926.jpg', 'train_1927.jpg', 'train_1928.jpg', 'train_1929.jpg', 'train_1930.jpg', 'train_1931.jpg', 'train_1932.jpg', 'train_1933.jpg', 'train_1934.jpg', 'train_1935.jpg', 'train_1936.jpg', 'train_1937.jpg', 'train_1938.jpg', 'train_1939.jpg', 'train_1940.jpg', 'train_1941.jpg', 'train_1942.jpg', 'train_1943.jpg', 'train_1944.jpg', 'train_1945.jpg', 'train_1946.jpg', 'train_1947.jpg', 'train_1948.jpg', 'train_1949.jpg', 'train_1950.jpg', 'train_1951.jpg', 'train_1952.jpg', 'train_1953.jpg', 'train_1954.jpg', 'train_1955.jpg', 'train_1956.jpg', 'train_1957.jpg', 'train_1958.jpg', 'train_1959.jpg', 'train_1960.jpg', 'train_1961.jpg', 'train_1962.jpg', 'train_1963.jpg', 'train_1964.jpg', 'train_1965.jpg', 'train_1966.jpg', 'train_1967.jpg', 'train_1968.jpg', 'train_1969.jpg', 'train_1970.jpg', 'train_1971.jpg', 'train_1972.jpg', 'train_1973.jpg', 'train_1974.jpg', 'train_1975.jpg', 'train_1976.jpg', 'train_1977.jpg', 'train_1978.jpg', 'train_1979.jpg', 'train_1980.jpg', 'train_1981.jpg', 'train_1982.jpg', 'train_1983.jpg', 'train_1984.jpg', 'train_1985.jpg', 'train_1986.jpg', 'train_1987.jpg', 'train_1988.jpg', 'train_1989.jpg', 'train_1990.jpg', 'train_1991.jpg', 'train_1992.jpg', 'train_1993.jpg', 'train_1994.jpg', 'train_1995.jpg', 'train_1996.jpg', 'train_1997.jpg', 'train_1998.jpg', 'train_1999.jpg', 'train_2000.jpg', 'train_2001.jpg', 'train_2002.jpg', 'train_2003.jpg', 'train_2004.jpg', 'train_2005.jpg', 'train_2006.jpg', 'train_2007.jpg', 'train_2008.jpg', 'train_2009.jpg', 'train_2010.jpg', 'train_2011.jpg', 'train_2012.jpg', 'train_2013.jpg', 'train_2014.jpg', 'train_2015.jpg', 'train_2016.jpg', 'train_2017.jpg', 'train_2018.jpg', 'train_2019.jpg', 'train_2020.jpg', 'train_2021.jpg', 'train_2022.jpg', 'train_2023.jpg', 'train_2024.jpg', 'train_2025.jpg', 'train_2026.jpg', 'train_2027.jpg', 'train_2028.jpg', 'train_2029.jpg', 'train_2030.jpg', 'train_2031.jpg', 'train_2032.jpg', 'train_2033.jpg', 'train_2034.jpg', 'train_2035.jpg', 'train_2036.jpg', 'train_2037.jpg', 'train_2038.jpg', 'train_2039.jpg', 'train_2040.jpg', 'train_2041.jpg', 'train_2042.jpg', 'train_2043.jpg', 'train_2044.jpg', 'train_2045.jpg', 'train_2046.jpg', 'train_2047.jpg', 'train_2048.jpg', 'train_2049.jpg', 'train_2050.jpg', 'train_2051.jpg', 'train_2052.jpg', 'train_2053.jpg', 'train_2054.jpg', 'train_2055.jpg', 'train_2056.jpg', 'train_2057.jpg', 'train_2058.jpg', 'train_2059.jpg', 'train_2060.jpg', 'train_2061.jpg', 'train_2062.jpg', 'train_2063.jpg', 'train_2064.jpg', 'train_2065.jpg', 'train_2066.jpg', 'train_2067.jpg', 'train_2068.jpg', 'train_2069.jpg', 'train_2070.jpg', 'train_2071.jpg', 'train_2072.jpg', 'train_2073.jpg', 'train_2074.jpg', 'train_2075.jpg', 'train_2076.jpg', 'train_2077.jpg', 'train_2078.jpg', 'train_2079.jpg', 'train_2080.jpg', 'train_2081.jpg', 'train_2082.jpg', 'train_2083.jpg', 'train_2084.jpg', 'train_2085.jpg', 'train_2086.jpg', 'train_2087.jpg', 'train_2088.jpg', 'train_2089.jpg', 'train_2090.jpg', 'train_2091.jpg', 'train_2092.jpg', 'train_2093.jpg', 'train_2094.jpg', 'train_2095.jpg', 'train_2096.jpg', 'train_2097.jpg', 'train_2098.jpg', 'train_2099.jpg', 'train_2100.jpg', 'train_2101.jpg', 'train_2102.jpg', 'train_2103.jpg', 'train_2104.jpg', 'train_2105.jpg', 'train_2106.jpg', 'train_2107.jpg', 'train_2108.jpg', 'train_2109.jpg', 'train_2110.jpg', 'train_2111.jpg', 'train_2112.jpg', 'train_2113.jpg', 'train_2114.jpg', 'train_2115.jpg', 'train_2116.jpg', 'train_2117.jpg', 'train_2118.jpg', 'train_2119.jpg', 'train_2120.jpg', 'train_2121.jpg', 'train_2122.jpg', 'train_2123.jpg', 'train_2124.jpg', 'train_2125.jpg', 'train_2126.jpg', 'train_2127.jpg', 'train_2128.jpg', 'train_2129.jpg', 'train_2130.jpg', 'train_2131.jpg', 'train_2132.jpg', 'train_2133.jpg', 'train_2134.jpg', 'train_2135.jpg', 'train_2136.jpg', 'train_2137.jpg', 'train_2138.jpg', 'train_2139.jpg', 'train_2140.jpg', 'train_2141.jpg', 'train_2142.jpg', 'train_2143.jpg', 'train_2144.jpg', 'train_2145.jpg', 'train_2146.jpg', 'train_2147.jpg', 'train_2148.jpg', 'train_2149.jpg', 'train_2150.jpg', 'train_2151.jpg', 'train_2152.jpg', 'train_2153.jpg', 'train_2154.jpg', 'train_2155.jpg', 'train_2156.jpg', 'train_2157.jpg', 'train_2158.jpg', 'train_2159.jpg', 'train_2160.jpg', 'train_2161.jpg', 'train_2162.jpg', 'train_2163.jpg', 'train_2164.jpg', 'train_2165.jpg', 'train_2166.jpg', 'train_2167.jpg', 'train_2168.jpg', 'train_2169.jpg', 'train_2170.jpg', 'train_2171.jpg', 'train_2172.jpg', 'train_2173.jpg', 'train_2174.jpg', 'train_2175.jpg', 'train_2176.jpg', 'train_2177.jpg', 'train_2178.jpg', 'train_2179.jpg', 'train_2180.jpg', 'train_2181.jpg', 'train_2182.jpg', 'train_2183.jpg', 'train_2184.jpg', 'train_2185.jpg', 'train_2186.jpg', 'train_2187.jpg', 'train_2188.jpg', 'train_2189.jpg', 'train_2190.jpg', 'train_2191.jpg', 'train_2192.jpg', 'train_2193.jpg', 'train_2194.jpg', 'train_2195.jpg', 'train_2196.jpg', 'train_2197.jpg', 'train_2198.jpg', 'train_2199.jpg', 'train_2200.jpg', 'train_2201.jpg', 'train_2202.jpg', 'train_2203.jpg', 'train_2204.jpg', 'train_2205.jpg', 'train_2206.jpg', 'train_2207.jpg', 'train_2208.jpg', 'train_2209.jpg', 'train_2210.jpg', 'train_2211.jpg', 'train_2212.jpg', 'train_2213.jpg', 'train_2214.jpg', 'train_2215.jpg', 'train_2216.jpg', 'train_2217.jpg', 'train_2218.jpg', 'train_2219.jpg', 'train_2220.jpg', 'train_2221.jpg', 'train_2222.jpg', 'train_2223.jpg', 'train_2224.jpg', 'train_2225.jpg', 'train_2226.jpg', 'train_2227.jpg', 'train_2228.jpg', 'train_2229.jpg', 'train_2230.jpg', 'train_2231.jpg', 'train_2232.jpg', 'train_2233.jpg', 'train_2234.jpg', 'train_2235.jpg', 'train_2236.jpg', 'train_2237.jpg', 'train_2238.jpg', 'train_2239.jpg', 'train_2240.jpg', 'train_2241.jpg', 'train_2242.jpg', 'train_2243.jpg', 'train_2244.jpg', 'train_2245.jpg', 'train_2246.jpg', 'train_2247.jpg', 'train_2248.jpg', 'train_2249.jpg', 'train_2250.jpg', 'train_2251.jpg', 'train_2252.jpg', 'train_2253.jpg', 'train_2254.jpg', 'train_2255.jpg', 'train_2256.jpg', 'train_2257.jpg', 'train_2258.jpg', 'train_2259.jpg', 'train_2260.jpg', 'train_2261.jpg', 'train_2262.jpg', 'train_2263.jpg', 'train_2264.jpg', 'train_2265.jpg', 'train_2266.jpg', 'train_2267.jpg', 'train_2268.jpg', 'train_2269.jpg', 'train_2270.jpg', 'train_2271.jpg', 'train_2272.jpg', 'train_2273.jpg', 'train_2274.jpg', 'train_2275.jpg', 'train_2276.jpg', 'train_2277.jpg', 'train_2278.jpg', 'train_2279.jpg', 'train_2280.jpg', 'train_2281.jpg', 'train_2282.jpg', 'train_2283.jpg', 'train_2284.jpg', 'train_2285.jpg', 'train_2286.jpg', 'train_2287.jpg', 'train_2288.jpg', 'train_2289.jpg', 'train_2290.jpg', 'train_2291.jpg', 'train_2292.jpg', 'train_2293.jpg', 'train_2294.jpg', 'train_2295.jpg', 'train_2296.jpg', 'train_2297.jpg', 'train_2298.jpg', 'train_2299.jpg', 'train_2300.jpg', 'train_2301.jpg', 'train_2302.jpg', 'train_2303.jpg', 'train_2304.jpg', 'train_2305.jpg', 'train_2306.jpg', 'train_2307.jpg', 'train_2308.jpg', 'train_2309.jpg', 'train_2310.jpg', 'train_2311.jpg', 'train_2312.jpg', 'train_2313.jpg', 'train_2314.jpg', 'train_2315.jpg', 'train_2316.jpg', 'train_2317.jpg', 'train_2318.jpg', 'train_2319.jpg', 'train_2320.jpg', 'train_2321.jpg', 'train_2322.jpg', 'train_2323.jpg', 'train_2324.jpg', 'train_2325.jpg', 'train_2326.jpg', 'train_2327.jpg', 'train_2328.jpg', 'train_2329.jpg', 'train_2330.jpg', 'train_2331.jpg', 'train_2332.jpg', 'train_2333.jpg', 'train_2334.jpg', 'train_2335.jpg', 'train_2336.jpg', 'train_2337.jpg', 'train_2338.jpg', 'train_2339.jpg', 'train_2340.jpg', 'train_2341.jpg', 'train_2342.jpg', 'train_2343.jpg', 'train_2344.jpg', 'train_2345.jpg', 'train_2346.jpg', 'train_2347.jpg', 'train_2348.jpg', 'train_2349.jpg', 'train_2350.jpg', 'train_2351.jpg', 'train_2352.jpg', 'train_2353.jpg', 'train_2354.jpg', 'train_2355.jpg', 'train_2356.jpg', 'train_2357.jpg', 'train_2358.jpg', 'train_2359.jpg', 'train_2360.jpg', 'train_2361.jpg', 'train_2362.jpg', 'train_2363.jpg', 'train_2364.jpg', 'train_2365.jpg', 'train_2366.jpg', 'train_2367.jpg', 'train_2368.jpg', 'train_2369.jpg', 'train_2370.jpg', 'train_2371.jpg', 'train_2372.jpg', 'train_2373.jpg', 'train_2374.jpg', 'train_2375.jpg', 'train_2376.jpg', 'train_2377.jpg', 'train_2378.jpg', 'train_2379.jpg', 'train_2380.jpg', 'train_2381.jpg', 'train_2382.jpg', 'train_2383.jpg', 'train_2384.jpg', 'train_2385.jpg', 'train_2386.jpg', 'train_2387.jpg', 'train_2388.jpg', 'train_2389.jpg', 'train_2390.jpg', 'train_2391.jpg', 'train_2392.jpg', 'train_2393.jpg', 'train_2394.jpg', 'train_2395.jpg', 'train_2396.jpg', 'train_2397.jpg', 'train_2398.jpg', 'train_2399.jpg', 'train_2400.jpg', 'train_2401.jpg', 'train_2402.jpg', 'train_2403.jpg', 'train_2404.jpg', 'train_2405.jpg', 'train_2406.jpg', 'train_2407.jpg', 'train_2408.jpg', 'train_2409.jpg', 'train_2410.jpg', 'train_2411.jpg', 'train_2412.jpg', 'train_2413.jpg', 'train_2414.jpg', 'train_2415.jpg', 'train_2416.jpg', 'train_2417.jpg', 'train_2418.jpg', 'train_2419.jpg', 'train_2420.jpg', 'train_2421.jpg', 'train_2422.jpg', 'train_2423.jpg', 'train_2424.jpg', 'train_2425.jpg', 'train_2426.jpg', 'train_2427.jpg', 'train_2428.jpg', 'train_2429.jpg', 'train_2430.jpg', 'train_2431.jpg', 'train_2432.jpg', 'train_2433.jpg', 'train_2434.jpg', 'train_2435.jpg', 'train_2436.jpg', 'train_2437.jpg', 'train_2438.jpg', 'train_2439.jpg', 'train_2440.jpg', 'train_2441.jpg', 'train_2442.jpg', 'train_2443.jpg', 'train_2444.jpg', 'train_2445.jpg', 'train_2446.jpg', 'train_2447.jpg', 'train_2448.jpg', 'train_2449.jpg', 'train_2450.jpg', 'train_2451.jpg', 'train_2452.jpg', 'train_2453.jpg', 'train_2454.jpg', 'train_2455.jpg', 'train_2456.jpg', 'train_2457.jpg', 'train_2458.jpg', 'train_2459.jpg', 'train_2460.jpg', 'train_2461.jpg', 'train_2462.jpg', 'train_2463.jpg', 'train_2464.jpg', 'train_2465.jpg', 'train_2466.jpg', 'train_2467.jpg', 'train_2468.jpg', 'train_2469.jpg', 'train_2470.jpg', 'train_2471.jpg', 'train_2472.jpg', 'train_2473.jpg', 'train_2474.jpg', 'train_2475.jpg', 'train_2476.jpg', 'train_2477.jpg', 'train_2478.jpg', 'train_2479.jpg', 'train_2480.jpg', 'train_2481.jpg', 'train_2482.jpg', 'train_2483.jpg', 'train_2484.jpg', 'train_2485.jpg', 'train_2486.jpg', 'train_2487.jpg', 'train_2488.jpg', 'train_2489.jpg', 'train_2490.jpg', 'train_2491.jpg', 'train_2492.jpg', 'train_2493.jpg', 'train_2494.jpg', 'train_2495.jpg', 'train_2496.jpg', 'train_2497.jpg', 'train_2498.jpg', 'train_2499.jpg', 'train_2500.jpg', 'train_2501.jpg', 'train_2502.jpg', 'train_2503.jpg', 'train_2504.jpg', 'train_2505.jpg', 'train_2506.jpg', 'train_2507.jpg', 'train_2508.jpg', 'train_2509.jpg', 'train_2510.jpg', 'train_2511.jpg', 'train_2512.jpg', 'train_2513.jpg', 'train_2514.jpg', 'train_2515.jpg', 'train_2516.jpg', 'train_2517.jpg', 'train_2518.jpg', 'train_2519.jpg', 'train_2520.jpg', 'train_2521.jpg', 'train_2522.jpg', 'train_2523.jpg', 'train_2524.jpg', 'train_2525.jpg', 'train_2526.jpg', 'train_2527.jpg', 'train_2528.jpg', 'train_2529.jpg', 'train_2530.jpg', 'train_2531.jpg', 'train_2532.jpg', 'train_2533.jpg', 'train_2534.jpg', 'train_2535.jpg', 'train_2536.jpg', 'train_2537.jpg', 'train_2538.jpg', 'train_2539.jpg', 'train_2540.jpg', 'train_2541.jpg', 'train_2542.jpg', 'train_2543.jpg', 'train_2544.jpg', 'train_2545.jpg', 'train_2546.jpg', 'train_2547.jpg', 'train_2548.jpg', 'train_2549.jpg', 'train_2550.jpg', 'train_2551.jpg', 'train_2552.jpg', 'train_2553.jpg', 'train_2554.jpg', 'train_2555.jpg', 'train_2556.jpg', 'train_2557.jpg', 'train_2558.jpg', 'train_2559.jpg', 'train_2560.jpg', 'train_2561.jpg', 'train_2562.jpg', 'train_2563.jpg', 'train_2564.jpg', 'train_2565.jpg', 'train_2566.jpg', 'train_2567.jpg', 'train_2568.jpg', 'train_2569.jpg', 'train_2570.jpg', 'train_2571.jpg', 'train_2572.jpg', 'train_2573.jpg', 'train_2574.jpg', 'train_2575.jpg', 'train_2576.jpg', 'train_2577.jpg', 'train_2578.jpg', 'train_2579.jpg', 'train_2580.jpg', 'train_2581.jpg', 'train_2582.jpg', 'train_2583.jpg', 'train_2584.jpg', 'train_2585.jpg', 'train_2586.jpg', 'train_2587.jpg', 'train_2588.jpg', 'train_2589.jpg', 'train_2590.jpg', 'train_2591.jpg', 'train_2592.jpg', 'train_2593.jpg', 'train_2594.jpg', 'train_2595.jpg', 'train_2596.jpg', 'train_2597.jpg', 'train_2598.jpg', 'train_2599.jpg', 'train_2600.jpg', 'train_2601.jpg', 'train_2602.jpg', 'train_2603.jpg', 'train_2604.jpg', 'train_2605.jpg', 'train_2606.jpg', 'train_2607.jpg', 'train_2608.jpg', 'train_2609.jpg', 'train_2610.jpg', 'train_2611.jpg', 'train_2612.jpg', 'train_2613.jpg', 'train_2614.jpg', 'train_2615.jpg', 'train_2616.jpg', 'train_2617.jpg', 'train_2618.jpg', 'train_2619.jpg', 'train_2620.jpg', 'train_2621.jpg', 'train_2622.jpg', 'train_2623.jpg', 'train_2624.jpg', 'train_2625.jpg', 'train_2626.jpg', 'train_2627.jpg', 'train_2628.jpg', 'train_2629.jpg', 'train_2630.jpg', 'train_2631.jpg', 'train_2632.jpg', 'train_2633.jpg', 'train_2634.jpg', 'train_2635.jpg', 'train_2636.jpg', 'train_2637.jpg', 'train_2638.jpg', 'train_2639.jpg', 'train_2640.jpg', 'train_2641.jpg', 'train_2642.jpg', 'train_2643.jpg', 'train_2644.jpg', 'train_2645.jpg', 'train_2646.jpg', 'train_2647.jpg', 'train_2648.jpg', 'train_2649.jpg', 'train_2650.jpg', 'train_2651.jpg', 'train_2652.jpg', 'train_2653.jpg', 'train_2654.jpg', 'train_2655.jpg', 'train_2656.jpg', 'train_2657.jpg', 'train_2658.jpg', 'train_2659.jpg', 'train_2660.jpg', 'train_2661.jpg', 'train_2662.jpg', 'train_2663.jpg', 'train_2664.jpg', 'train_2665.jpg', 'train_2666.jpg', 'train_2667.jpg', 'train_2668.jpg', 'train_2669.jpg', 'train_2670.jpg', 'train_2671.jpg', 'train_2672.jpg', 'train_2673.jpg', 'train_2674.jpg', 'train_2675.jpg', 'train_2676.jpg', 'train_2677.jpg', 'train_2678.jpg', 'train_2679.jpg', 'train_2680.jpg', 'train_2681.jpg', 'train_2682.jpg', 'train_2683.jpg', 'train_2684.jpg', 'train_2685.jpg', 'train_2686.jpg', 'train_2687.jpg', 'train_2688.jpg', 'train_2689.jpg', 'train_2690.jpg', 'train_2691.jpg', 'train_2692.jpg', 'train_2693.jpg', 'train_2694.jpg', 'train_2695.jpg', 'train_2696.jpg', 'train_2697.jpg', 'train_2698.jpg', 'train_2699.jpg', 'train_2700.jpg', 'train_2701.jpg', 'train_2702.jpg', 'train_2703.jpg', 'train_2704.jpg', 'train_2705.jpg', 'train_2706.jpg', 'train_2707.jpg', 'train_2708.jpg', 'train_2709.jpg', 'train_2710.jpg', 'train_2711.jpg', 'train_2712.jpg', 'train_2713.jpg', 'train_2714.jpg', 'train_2715.jpg', 'train_2716.jpg', 'train_2717.jpg', 'train_2718.jpg', 'train_2719.jpg', 'train_2720.jpg', 'train_2721.jpg', 'train_2722.jpg', 'train_2723.jpg', 'train_2724.jpg', 'train_2725.jpg', 'train_2726.jpg', 'train_2727.jpg', 'train_2728.jpg', 'train_2729.jpg', 'train_2730.jpg', 'train_2731.jpg', 'train_2732.jpg', 'train_2733.jpg', 'train_2734.jpg', 'train_2735.jpg', 'train_2736.jpg', 'train_2737.jpg', 'train_2738.jpg', 'train_2739.jpg', 'train_2740.jpg', 'train_2741.jpg', 'train_2742.jpg', 'train_2743.jpg', 'train_2744.jpg', 'train_2745.jpg', 'train_2746.jpg', 'train_2747.jpg', 'train_2748.jpg', 'train_2749.jpg', 'train_2750.jpg', 'train_2751.jpg', 'train_2752.jpg', 'train_2753.jpg', 'train_2754.jpg', 'train_2755.jpg', 'train_2756.jpg', 'train_2757.jpg', 'train_2758.jpg', 'train_2759.jpg', 'train_2760.jpg', 'train_2761.jpg', 'train_2762.jpg', 'train_2763.jpg', 'train_2764.jpg', 'train_2765.jpg', 'train_2766.jpg', 'train_2767.jpg', 'train_2768.jpg', 'train_2769.jpg', 'train_2770.jpg', 'train_2771.jpg', 'train_2772.jpg', 'train_2773.jpg', 'train_2774.jpg', 'train_2775.jpg', 'train_2776.jpg', 'train_2777.jpg', 'train_2778.jpg', 'train_2779.jpg', 'train_2780.jpg', 'train_2781.jpg', 'train_2782.jpg', 'train_2783.jpg', 'train_2784.jpg', 'train_2785.jpg', 'train_2786.jpg', 'train_2787.jpg', 'train_2788.jpg', 'train_2789.jpg', 'train_2790.jpg', 'train_2791.jpg', 'train_2792.jpg', 'train_2793.jpg', 'train_2794.jpg', 'train_2795.jpg', 'train_2796.jpg', 'train_2797.jpg', 'train_2798.jpg', 'train_2799.jpg', 'train_2800.jpg', 'train_2801.jpg', 'train_2802.jpg', 'train_2803.jpg', 'train_2804.jpg', 'train_2805.jpg', 'train_2806.jpg', 'train_2807.jpg', 'train_2808.jpg', 'train_2809.jpg', 'train_2810.jpg', 'train_2811.jpg', 'train_2812.jpg', 'train_2813.jpg', 'train_2814.jpg', 'train_2815.jpg', 'train_2816.jpg', 'train_2817.jpg', 'train_2818.jpg', 'train_2819.jpg', 'train_2820.jpg', 'train_2821.jpg', 'train_2822.jpg', 'train_2823.jpg', 'train_2824.jpg', 'train_2825.jpg', 'train_2826.jpg', 'train_2827.jpg', 'train_2828.jpg', 'train_2829.jpg', 'train_2830.jpg', 'train_2831.jpg', 'train_2832.jpg', 'train_2833.jpg', 'train_2834.jpg', 'train_2835.jpg', 'train_2836.jpg', 'train_2837.jpg', 'train_2838.jpg', 'train_2839.jpg', 'train_2840.jpg', 'train_2841.jpg', 'train_2842.jpg', 'train_2843.jpg', 'train_2844.jpg', 'train_2845.jpg', 'train_2846.jpg', 'train_2847.jpg', 'train_2848.jpg', 'train_2849.jpg', 'train_2850.jpg', 'train_2851.jpg', 'train_2852.jpg', 'train_2853.jpg', 'train_2854.jpg', 'train_2855.jpg', 'train_2856.jpg', 'train_2857.jpg', 'train_2858.jpg', 'train_2859.jpg', 'train_2860.jpg', 'train_2861.jpg', 'train_2862.jpg', 'train_2863.jpg', 'train_2864.jpg', 'train_2865.jpg', 'train_2866.jpg', 'train_2867.jpg', 'train_2868.jpg', 'train_2869.jpg', 'train_2870.jpg', 'train_2871.jpg', 'train_2872.jpg', 'train_2873.jpg', 'train_2874.jpg', 'train_2875.jpg', 'train_2876.jpg', 'train_2877.jpg', 'train_2878.jpg', 'train_2879.jpg', 'train_2880.jpg', 'train_2881.jpg', 'train_2882.jpg', 'train_2883.jpg', 'train_2884.jpg', 'train_2885.jpg', 'train_2886.jpg', 'train_2887.jpg', 'train_2888.jpg', 'train_2889.jpg', 'train_2890.jpg', 'train_2891.jpg', 'train_2892.jpg', 'train_2893.jpg', 'train_2894.jpg', 'train_2895.jpg', 'train_2896.jpg', 'train_2897.jpg', 'train_2898.jpg', 'train_2899.jpg', 'train_2900.jpg', 'train_2901.jpg', 'train_2902.jpg', 'train_2903.jpg', 'train_2904.jpg', 'train_2905.jpg', 'train_2906.jpg', 'train_2907.jpg', 'train_2908.jpg', 'train_2909.jpg', 'train_2910.jpg', 'train_2911.jpg', 'train_2912.jpg', 'train_2913.jpg', 'train_2914.jpg', 'train_2915.jpg', 'train_2916.jpg', 'train_2917.jpg', 'train_2918.jpg', 'train_2919.jpg', 'train_2920.jpg', 'train_2921.jpg', 'train_2922.jpg', 'train_2923.jpg', 'train_2924.jpg', 'train_2925.jpg', 'train_2926.jpg', 'train_2927.jpg', 'train_2928.jpg', 'train_2929.jpg', 'train_2930.jpg', 'train_2931.jpg', 'train_2932.jpg', 'train_2933.jpg', 'train_2934.jpg', 'train_2935.jpg', 'train_2936.jpg', 'train_2937.jpg', 'train_2938.jpg', 'train_2939.jpg', 'train_2940.jpg', 'train_2941.jpg', 'train_2942.jpg', 'train_2943.jpg', 'train_2944.jpg', 'train_2945.jpg', 'train_2946.jpg', 'train_2947.jpg', 'train_2948.jpg', 'train_2949.jpg', 'train_2950.jpg', 'train_2951.jpg', 'train_2952.jpg', 'train_2953.jpg', 'train_2954.jpg', 'train_2955.jpg', 'train_2956.jpg', 'train_2957.jpg', 'train_2958.jpg', 'train_2959.jpg', 'train_2960.jpg', 'train_2961.jpg', 'train_2962.jpg', 'train_2963.jpg', 'train_2964.jpg', 'train_2965.jpg', 'train_2966.jpg', 'train_2967.jpg', 'train_2968.jpg', 'train_2969.jpg', 'train_2970.jpg', 'train_2971.jpg', 'train_2972.jpg', 'train_2973.jpg', 'train_2974.jpg', 'train_2975.jpg', 'train_2976.jpg', 'train_2977.jpg', 'train_2978.jpg', 'train_2979.jpg', 'train_2980.jpg', 'train_2981.jpg', 'train_2982.jpg', 'train_2983.jpg', 'train_2984.jpg', 'train_2985.jpg', 'train_2986.jpg', 'train_2987.jpg', 'train_2988.jpg', 'train_2989.jpg', 'train_2990.jpg', 'train_2991.jpg', 'train_2992.jpg', 'train_2993.jpg', 'train_2994.jpg', 'train_2995.jpg', 'train_2996.jpg', 'train_2997.jpg', 'train_2998.jpg', 'train_2999.jpg', 'train_3000.jpg', 'train_3001.jpg', 'train_3002.jpg', 'train_3003.jpg', 'train_3004.jpg', 'train_3005.jpg', 'train_3006.jpg', 'train_3007.jpg', 'train_3008.jpg', 'train_3009.jpg', 'train_3010.jpg', 'train_3011.jpg', 'train_3012.jpg', 'train_3013.jpg', 'train_3014.jpg', 'train_3015.jpg', 'train_3016.jpg', 'train_3017.jpg', 'train_3018.jpg', 'train_3019.jpg', 'train_3020.jpg', 'train_3021.jpg', 'train_3022.jpg', 'train_3023.jpg', 'train_3024.jpg', 'train_3025.jpg', 'train_3026.jpg', 'train_3027.jpg', 'train_3028.jpg', 'train_3029.jpg', 'train_3030.jpg', 'train_3031.jpg', 'train_3032.jpg', 'train_3033.jpg', 'train_3034.jpg', 'train_3035.jpg', 'train_3036.jpg', 'train_3037.jpg', 'train_3038.jpg', 'train_3039.jpg', 'train_3040.jpg', 'train_3041.jpg', 'train_3042.jpg', 'train_3043.jpg', 'train_3044.jpg', 'train_3045.jpg', 'train_3046.jpg', 'train_3047.jpg', 'train_3048.jpg', 'train_3049.jpg', 'train_3050.jpg', 'train_3051.jpg', 'train_3052.jpg', 'train_3053.jpg', 'train_3054.jpg', 'train_3055.jpg', 'train_3056.jpg', 'train_3057.jpg', 'train_3058.jpg', 'train_3059.jpg', 'train_3060.jpg', 'train_3061.jpg', 'train_3062.jpg', 'train_3063.jpg', 'train_3064.jpg', 'train_3065.jpg', 'train_3066.jpg', 'train_3067.jpg', 'train_3068.jpg', 'train_3069.jpg', 'train_3070.jpg', 'train_3071.jpg', 'train_3072.jpg', 'train_3073.jpg', 'train_3074.jpg', 'train_3075.jpg', 'train_3076.jpg', 'train_3077.jpg', 'train_3078.jpg', 'train_3079.jpg', 'train_3080.jpg', 'train_3081.jpg', 'train_3082.jpg', 'train_3083.jpg', 'train_3084.jpg', 'train_3085.jpg', 'train_3086.jpg', 'train_3087.jpg', 'train_3088.jpg', 'train_3089.jpg', 'train_3090.jpg', 'train_3091.jpg', 'train_3092.jpg', 'train_3093.jpg', 'train_3094.jpg', 'train_3095.jpg', 'train_3096.jpg', 'train_3097.jpg', 'train_3098.jpg', 'train_3099.jpg', 'train_3100.jpg', 'train_3101.jpg', 'train_3102.jpg', 'train_3103.jpg', 'train_3104.jpg', 'train_3105.jpg', 'train_3106.jpg', 'train_3107.jpg', 'train_3108.jpg', 'train_3109.jpg', 'train_3110.jpg', 'train_3111.jpg', 'train_3112.jpg', 'train_3113.jpg', 'train_3114.jpg', 'train_3115.jpg', 'train_3116.jpg', 'train_3117.jpg', 'train_3118.jpg', 'train_3119.jpg', 'train_3120.jpg', 'train_3121.jpg', 'train_3122.jpg', 'train_3123.jpg', 'train_3124.jpg', 'train_3125.jpg', 'train_3126.jpg', 'train_3127.jpg', 'train_3128.jpg', 'train_3129.jpg', 'train_3130.jpg', 'train_3131.jpg', 'train_3132.jpg', 'train_3133.jpg', 'train_3134.jpg', 'train_3135.jpg', 'train_3136.jpg', 'train_3137.jpg', 'train_3138.jpg', 'train_3139.jpg', 'train_3140.jpg', 'train_3141.jpg', 'train_3142.jpg', 'train_3143.jpg', 'train_3144.jpg', 'train_3145.jpg', 'train_3146.jpg', 'train_3147.jpg', 'train_3148.jpg', 'train_3149.jpg', 'train_3150.jpg', 'train_3151.jpg', 'train_3152.jpg', 'train_3153.jpg', 'train_3154.jpg', 'train_3155.jpg', 'train_3156.jpg', 'train_3157.jpg', 'train_3158.jpg', 'train_3159.jpg', 'train_3160.jpg', 'train_3161.jpg', 'train_3162.jpg']\n"
     ]
    }
   ],
   "source": [
    "print(ID)"
   ]
  },
  {
   "cell_type": "code",
   "execution_count": 9,
   "metadata": {},
   "outputs": [],
   "source": [
    "with open('expression/list_patition_label1.txt', 'r') as f:\n",
    "    label = f.read().splitlines()\n",
    "\n",
    "for i in range(len(label)):\n",
    "    imageID.append(label[i].split(' ')[0])\n",
    "    labels.append(label[i].split(' ')[1])"
   ]
  },
  {
   "cell_type": "code",
   "execution_count": 10,
   "metadata": {},
   "outputs": [],
   "source": [
    "newlabels = []\n",
    "for i in ID:\n",
    "    index = imageID.index(i)\n",
    "    newlabels.append(labels[index])"
   ]
  },
  {
   "cell_type": "code",
   "execution_count": 11,
   "metadata": {},
   "outputs": [
    {
     "name": "stdout",
     "output_type": "stream",
     "text": [
      "['1', '6', '6', '2', '6', '7', '10', '6', '6', '10', '9', '10', '1', '10', '5', '1', '6', '6', '8', '10', '11', '1', '8', '10', '11', '11', '9', '1', '10', '1', '1', '1', '6', '6', '1', '3', '6', '4', '4', '6', '6', '6', '6', '10', '1', '3', '11', '2', '8', '1', '6', '10', '2', '6', '8', '4', '7', '4', '1', '2', '2', '4', '8', '8', '10', '1', '8', '10', '11', '1', '1', '6', '8', '8', '8', '1', '9', '1', '8', '4', '7', '6', '10', '1', '10', '1', '6', '8', '6', '10', '1', '3', '6', '6', '1', '6', '1', '2', '1', '8', '10', '9', '10', '4', '10', '10', '11', '10', '3', '8', '10', '10', '8', '7', '1', '5', '10', '8', '8', '8', '6', '1', '1', '8', '2', '2', '6', '1', '1', '4', '1', '10', '8', '8', '10', '2', '8', '9', '1', '1', '6', '8', '2', '1', '1', '10', '10', '1', '1', '6', '9', '1', '2', '6', '7', '2', '2', '10', '10', '9', '8', '10', '1', '6', '9', '10', '10', '7', '1', '1', '2', '1', '10', '1', '10', '6', '10', '8', '10', '1', '8', '8', '8', '1', '6', '10', '1', '8', '10', '1', '1', '10', '6', '2', '1', '9', '5', '8', '11', '2', '10', '2', '3', '8', '10', '10', '8', '8', '8', '10', '10', '1', '6', '10', '10', '1', '8', '2', '10', '1', '10', '11', '6', '9', '10', '4', '6', '3', '1', '10', '6', '2', '6', '1', '1', '6', '10', '6', '8', '1', '8', '1', '10', '9', '2', '6', '2', '6', '6', '10', '2', '9', '6', '11', '1', '8', '8', '7', '6', '1', '11', '10', '8', '1', '1', '10', '10', '8', '6', '10', '11', '10', '10', '1', '1', '1', '1', '10', '6', '10', '1', '6', '4', '2', '2', '2', '8', '6', '10', '1', '10', '10', '8', '10', '9', '10', '10', '1', '11', '2', '10', '10', '11', '10', '6', '6', '5', '10', '3', '6', '4', '8', '1', '10', '6', '11', '10', '2', '4', '1', '8', '1', '8', '1', '10', '4', '10', '10', '4', '10', '6', '10', '6', '8', '4', '1', '8', '1', '10', '6', '8', '8', '6', '11', '6', '2', '10', '10', '1', '8', '5', '1', '1', '1', '6', '8', '6', '6', '6', '6', '10', '6', '10', '10', '7', '4', '1', '10', '1', '6', '6', '5', '8', '10', '10', '8', '8', '8', '8', '4', '1', '10', '1', '6', '8', '10', '8', '11', '2', '8', '10', '10', '1', '6', '6', '2', '8', '6', '6', '1', '10', '10', '8', '1', '10', '8', '10', '8', '8', '10', '10', '6', '10', '10', '1', '6', '4', '11', '10', '1', '1', '1', '1', '7', '2', '6', '6', '10', '11', '10', '10', '6', '6', '1', '3', '6', '6', '6', '5', '7', '2', '2', '1', '3', '1', '2', '6', '10', '10', '7', '11', '8', '8', '6', '6', '8', '6', '8', '6', '5', '10', '1', '3', '6', '8', '1', '9', '11', '10', '1', '1', '8', '2', '10', '6', '8', '6', '6', '10', '5', '8', '7', '11', '3', '1', '9', '9', '8', '3', '8', '1', '8', '1', '11', '2', '10', '4', '6', '10', '6', '6', '6', '5', '2', '2', '6', '8', '1', '8', '10', '1', '10', '6', '5', '8', '11', '1', '9', '10', '1', '8', '10', '8', '11', '11', '10', '4', '1', '9', '9', '6', '3', '6', '6', '10', '1', '6', '6', '4', '2', '10', '11', '9', '9', '1', '6', '8', '10', '6', '1', '4', '6', '4', '6', '9', '6', '6', '11', '1', '10', '10', '10', '10', '10', '8', '6', '1', '10', '10', '10', '10', '9', '2', '5', '1', '9', '10', '8', '8', '10', '10', '10', '8', '11', '8', '4', '3', '1', '1', '1', '10', '10', '1', '1', '10', '7', '7', '7', '6', '7', '8', '7', '1', '7', '5', '6', '6', '1', '8', '8', '6', '8', '4', '8', '7', '10', '7', '5', '8', '8', '8', '8', '8', '8', '6', '7', '7', '7', '7', '7', '7', '8', '10', '6', '9', '6', '6', '7', '1', '1', '9', '4', '5', '2', '10', '6', '6', '6', '3', '10', '6', '6', '11', '8', '1', '4', '6', '10', '10', '10', '8', '5', '1', '9', '1', '10', '6', '10', '1', '11', '3', '2', '10', '8', '8', '1', '6', '8', '10', '6', '1', '4', '2', '3', '8', '7', '10', '4', '3', '6', '7', '1', '9', '4', '6', '7', '4', '8', '10', '6', '2', '6', '11', '10', '10', '1', '6', '10', '3', '1', '1', '10', '8', '10', '10', '8', '8', '9', '8', '6', '6', '10', '4', '1', '3', '8', '8', '9', '6', '7', '5', '10', '5', '2', '10', '8', '6', '8', '9', '9', '6', '6', '1', '6', '6', '10', '7', '10', '7', '2', '8', '8', '9', '6', '10', '10', '10', '10', '10', '6', '1', '11', '10', '1', '10', '2', '1', '1', '4', '6', '6', '10', '11', '10', '1', '9', '10', '10', '10', '11', '10', '11', '10', '3', '9', '10', '9', '3', '9', '10', '9', '6', '6', '6', '10', '4', '10', '1', '9', '10', '1', '6', '6', '1', '6', '10', '10', '8', '2', '1', '6', '6', '6', '2', '6', '9', '8', '4', '8', '6', '6', '9', '1', '9', '1', '6', '10', '6', '8', '6', '8', '2', '1', '6', '4', '1', '1', '10', '6', '8', '8', '10', '2', '10', '6', '10', '10', '11', '8', '6', '6', '4', '6', '8', '3', '1', '6', '10', '1', '11', '5', '11', '6', '6', '10', '1', '3', '6', '1', '1', '1', '1', '10', '10', '8', '1', '3', '8', '10', '6', '8', '1', '7', '10', '1', '6', '4', '6', '6', '6', '8', '1', '6', '1', '2', '1', '11', '6', '5', '8', '4', '2', '5', '10', '2', '10', '4', '4', '4', '4', '3', '1', '4', '4', '4', '6', '6', '3', '1', '10', '8', '10', '1', '1', '1', '6', '10', '4', '4', '6', '9', '3', '7', '9', '7', '6', '6', '6', '9', '5', '1', '1', '4', '10', '1', '6', '10', '6', '11', '10', '6', '10', '10', '9', '6', '1', '1', '10', '2', '6', '2', '11', '6', '2', '6', '1', '6', '10', '6', '8', '6', '8', '6', '9', '4', '10', '6', '6', '1', '2', '1', '2', '8', '8', '11', '2', '8', '5', '6', '6', '10', '1', '4', '10', '1', '3', '6', '2', '3', '8', '10', '11', '6', '6', '1', '10', '1', '10', '3', '8', '1', '10', '1', '1', '4', '7', '8', '4', '7', '1', '3', '5', '10', '10', '5', '7', '2', '2', '1', '2', '1', '1', '1', '8', '10', '1', '1', '1', '1', '8', '6', '5', '6', '10', '4', '9', '1', '10', '1', '10', '8', '10', '10', '4', '8', '1', '6', '1', '10', '9', '9', '9', '9', '8', '8', '10', '10', '10', '1', '6', '10', '8', '1', '1', '6', '1', '10', '4', '10', '7', '6', '7', '5', '6', '6', '10', '7', '10', '6', '10', '6', '1', '2', '5', '6', '6', '8', '7', '9', '10', '2', '2', '6', '6', '4', '1', '2', '1', '2', '1', '11', '6', '10', '2', '4', '1', '7', '6', '3', '10', '7', '2', '10', '10', '6', '10', '1', '10', '6', '10', '1', '10', '2', '6', '1', '10', '10', '8', '10', '10', '10', '10', '10', '10', '10', '6', '10', '3', '6', '1', '3', '4', '4', '9', '10', '10', '3', '2', '3', '10', '10', '9', '4', '6', '8', '8', '2', '10', '1', '2', '10', '2', '6', '10', '7', '1', '10', '6', '8', '1', '6', '11', '1', '6', '6', '8', '6', '8', '6', '11', '6', '6', '1', '4', '11', '11', '1', '10', '9', '2', '6', '9', '9', '10', '10', '8', '6', '1', '3', '1', '10', '10', '6', '6', '8', '10', '1', '11', '10', '4', '2', '10', '1', '10', '10', '9', '2', '1', '10', '11', '2', '10', '10', '7', '2', '11', '6', '10', '6', '7', '6', '4', '11', '6', '8', '6', '2', '8', '8', '1', '10', '6', '10', '1', '8', '7', '11', '6', '10', '10', '1', '9', '10', '10', '2', '1', '6', '6', '6', '6', '10', '1', '3', '8', '11', '1', '1', '9', '8', '6', '11', '10', '10', '10', '6', '8', '7', '1', '1', '2', '10', '3', '10', '10', '6', '8', '8', '8', '9', '1', '1', '9', '10', '9', '1', '1', '2', '6', '6', '8', '8', '6', '5', '1', '9', '10', '10', '1', '4', '6', '6', '10', '2', '1', '1', '6', '10', '2', '6', '7', '10', '1', '1', '1', '8', '11', '1', '10', '1', '3', '10', '8', '10', '9', '6', '1', '1', '6', '1', '8', '1', '6', '1', '10', '2', '2', '6', '8', '6', '11', '8', '2', '1', '2', '2', '9', '10', '10', '11', '10', '8', '10', '6', '1', '10', '2', '1', '1', '8', '1', '1', '10', '1', '8', '10', '1', '1', '2', '6', '10', '2', '10', '1', '1', '6', '1', '1', '10', '10', '1', '2', '10', '9', '6', '8', '10', '2', '10', '10', '1', '8', '10', '1', '6', '6', '1', '11', '8', '2', '6', '1', '10', '10', '8', '6', '9', '10', '1', '10', '10', '1', '10', '10', '6', '1', '8', '7', '1', '10', '2', '10', '10', '8', '6', '10', '6', '1', '10', '4', '2', '10', '1', '10', '1', '10', '1', '10', '5', '10', '7', '8', '4', '1', '8', '2', '1', '9', '9', '3', '10', '1', '6', '10', '1', '1', '9', '6', '8', '1', '1', '3', '10', '6', '10', '8', '5', '10', '9', '7', '6', '3', '8', '10', '1', '10', '10', '8', '10', '1', '8', '9', '1', '1', '10', '8', '1', '6', '8', '9', '2', '9', '10', '10', '6', '8', '6', '1', '8', '1', '10', '9', '6', '10', '8', '8', '8', '6', '1', '1', '10', '10', '2', '2', '9', '1', '8', '10', '6', '11', '11', '10', '11', '6', '1', '1', '6', '9', '8', '9', '3', '1', '8', '6', '1', '5', '9', '9', '2', '6', '1', '1', '1', '10', '8', '10', '10', '1', '5', '1', '1', '1', '1', '10', '1', '8', '6', '2', '1', '1', '1', '8', '10', '10', '1', '10', '2', '10', '1', '10', '10', '4', '9', '10', '6', '6', '1', '6', '10', '6', '1', '1', '10', '1', '1', '2', '1', '8', '10', '1', '10', '8', '8', '8', '8', '6', '6', '2', '1', '5', '6', '6', '8', '1', '5', '1', '6', '10', '2', '10', '6', '9', '10', '1', '1', '1', '10', '10', '1', '1', '1', '8', '1', '10', '9', '1', '1', '6', '1', '8', '6', '8', '6', '2', '6', '8', '10', '10', '10', '4', '8', '10', '1', '10', '2', '8', '1', '10', '10', '2', '10', '4', '2', '10', '10', '2', '1', '6', '1', '8', '6', '1', '10', '9', '10', '1', '3', '1', '2', '8', '8', '6', '8', '1', '1', '1', '2', '11', '1', '5', '11', '2', '6', '6', '9', '6', '10', '10', '6', '10', '10', '6', '1', '10', '10', '6', '6', '3', '1', '7', '1', '8', '3', '1', '1', '8', '10', '10', '10', '4', '6', '8', '2', '4', '1', '8', '4', '1', '1', '6', '6', '1', '10', '6', '6', '10', '1', '1', '9', '9', '4', '1', '1', '11', '2', '5', '6', '5', '2', '6', '8', '1', '2', '8', '8', '6', '11', '10', '6', '10', '9', '10', '6', '6', '6', '10', '1', '10', '7', '8', '7', '1', '3', '8', '9', '1', '1', '2', '10', '2', '6', '10', '10', '10', '10', '7', '1', '6', '8', '11', '10', '11', '8', '2', '5', '1', '6', '10', '8', '10', '10', '10', '6', '10', '6', '10', '1', '10', '2', '7', '1', '10', '8', '11', '10', '8', '6', '5', '10', '9', '6', '11', '1', '4', '11', '10', '7', '10', '1', '9', '10', '2', '1', '8', '3', '6', '8', '6', '6', '6', '11', '10', '6', '10', '10', '6', '8', '6', '10', '9', '6', '6', '6', '3', '10', '1', '10', '11', '10', '8', '8', '2', '10', '6', '10', '8', '8', '2', '6', '9', '6', '6', '5', '1', '8', '10', '6', '1', '10', '6', '8', '1', '8', '4', '4', '9', '1', '9', '3', '11', '1', '6', '1', '10', '10', '11', '1', '6', '6', '10', '1', '10', '2', '11', '4', '8', '6', '6', '2', '10', '2', '1', '8', '8', '10', '8', '6', '10', '11', '8', '8', '6', '2', '1', '10', '11', '6', '11', '8', '11', '6', '1', '10', '6', '10', '2', '10', '6', '8', '6', '6', '6', '5', '1', '1', '1', '8', '11', '10', '10', '9', '10', '1', '10', '8', '6', '11', '10', '8', '1', '10', '6', '6', '6', '8', '11', '9', '10', '6', '8', '9', '10', '1', '10', '8', '11', '6', '1', '11', '1', '2', '6', '1', '1', '11', '1', '6', '8', '10', '6', '10', '10', '2', '10', '2', '1', '2', '10', '1', '1', '7', '1', '2', '10', '1', '10', '10', '1', '2', '6', '3', '7', '5', '1', '10', '10', '10', '1', '8', '10', '2', '2', '6', '4', '1', '8', '2', '10', '10', '9', '6', '1', '11', '9', '8', '6', '6', '10', '4', '6', '6', '1', '6', '1', '9', '1', '6', '1', '10', '6', '10', '10', '6', '10', '10', '9', '8', '4', '2', '6', '1', '6', '3', '9', '4', '6', '8', '10', '8', '11', '11', '2', '10', '6', '10', '2', '10', '6', '10', '6', '1', '6', '1', '4', '5', '1', '5', '1', '6', '10', '8', '3', '2', '6', '6', '8', '6', '1', '3', '6', '6', '4', '10', '8', '2', '6', '4', '6', '2', '6', '6', '8', '8', '8', '8', '6', '6', '8', '6', '6', '2', '2', '10', '4', '10', '8', '10', '1', '10', '1', '8', '4', '1', '1', '6', '10', '4', '3', '6', '6', '1', '1', '11', '11', '10', '8', '11', '1', '6', '10', '8', '10', '1', '6', '6', '11', '10', '10', '1', '2', '10', '5', '10', '2', '7', '10', '6', '6', '10', '4', '4', '10', '10', '10', '5', '1', '8', '8', '9', '1', '1', '8', '10', '10', '1', '6', '6', '8', '10', '8', '9', '8', '8', '8', '2', '8', '4', '8', '10', '1', '7', '6', '11', '11', '6', '2', '8', '1', '6', '10', '4', '8', '8', '1', '8', '8', '8', '6', '8', '11', '11', '1', '1', '1', '1', '1', '1', '8', '8', '6', '8', '10', '11', '8', '6', '6', '6', '6', '6', '6', '6', '6', '6', '6', '6', '9', '1', '10', '6', '7', '1', '8', '10', '1', '9', '2', '6', '7', '3', '8', '1', '8', '1', '2', '6', '8', '10', '3', '2', '6', '6', '8', '4', '6', '6', '6', '2', '10', '2', '8', '11', '6', '2', '8', '10', '8', '1', '8', '9', '2', '10', '7', '10', '1', '6', '9', '2', '1', '6', '8', '8', '6', '7', '1', '9', '2', '1', '6', '8', '2', '8', '8', '3', '1', '10', '10', '10', '8', '2', '5', '1', '8', '4', '2', '8', '6', '10', '10', '1', '10', '1', '10', '10', '10', '8', '8', '2', '6', '9', '2', '10', '10', '10', '10', '4', '2', '1', '6', '10', '10', '10', '1', '2', '6', '2', '1', '8', '8', '4', '6', '6', '4', '6', '8', '10', '10', '4', '2', '6', '4', '8', '1', '7', '6', '1', '2', '2', '4', '10', '11', '6', '8', '1', '10', '10', '10', '10', '1', '6', '8', '1', '10', '4', '2', '2', '10', '1', '8', '5', '1', '9', '3', '11', '1', '10', '6', '1', '6', '9', '1', '10', '1', '6', '8', '2', '2', '6', '9', '9', '10', '10', '10', '10', '3', '11', '8', '10', '2', '1', '8', '1', '10', '2', '6', '8', '6', '10', '10', '10', '8', '8', '1', '6', '3', '1', '5', '10', '10', '1', '6', '8', '4', '5', '4', '4', '1', '8', '10', '11', '2', '1', '8', '1', '10', '1', '6', '4', '8', '9', '11', '1', '1', '1', '1', '1', '2', '6', '4', '8', '2', '1', '8', '10', '10', '8', '1', '10', '6', '3', '10', '10', '2', '4', '1', '2', '1', '2', '1', '1', '6', '6', '10', '1', '8', '6', '8', '6', '6', '11', '11', '3', '6', '10', '1', '6', '1', '9', '6', '4', '1', '6', '10', '1', '8', '11', '6', '6', '6', '6', '6', '8', '2', '9', '10', '1', '7', '6', '4', '2', '1', '1', '6', '10', '6', '9', '5', '1', '6', '8', '2', '8', '4', '11', '10', '2', '11', '5', '1', '5', '10', '3', '4', '1', '2', '10', '1', '10', '10', '2', '1', '8', '6', '2', '10', '11', '6', '11', '3', '6', '6', '1', '6', '6', '8', '11', '10', '4', '3', '10', '10', '10', '10', '6', '6', '8', '1', '8', '3', '8', '8', '8', '8', '6', '9', '6', '8', '1', '10', '10', '10', '9', '8', '8', '3', '10', '6', '10', '10', '8', '6', '6', '8', '8', '1', '3', '5', '8', '8', '8', '8', '1', '1', '1', '6', '6', '8', '6', '8', '1', '1', '6', '8', '8', '2', '6', '6', '8', '8', '10', '6', '1', '1', '1', '6', '1', '3', '8', '8', '1', '1', '8', '6', '6', '8', '8', '7', '8', '1', '10', '8', '6', '6', '9', '3', '4', '10', '1', '10', '8', '6', '1', '2', '2', '1', '1', '11', '6', '10', '2', '6', '10', '1', '10', '10', '1', '6', '11', '11', '10', '1', '11', '1', '8', '6', '11', '6', '6', '8', '6', '1', '1', '1', '10', '8', '8', '7', '7', '10', '11', '2', '10', '4', '6', '8', '1', '10', '1', '1', '6', '1', '1', '4', '9', '9', '10', '6', '3', '11', '9', '10', '8', '10', '1', '1', '1', '2', '7', '4', '1', '10', '6', '11', '11', '5', '8', '6', '7', '7', '8', '8', '4', '7', '10', '7', '8', '8', '8', '8', '7', '1', '7', '2', '10', '10', '4', '9', '3', '10', '8', '6', '1', '8', '6', '8', '1', '8', '6', '1', '6', '1', '8', '1', '8', '8', '8', '8', '9', '1', '8', '1', '8', '1', '7', '10', '4', '6', '10', '10', '3', '1', '8', '2', '1', '2', '10', '10', '8', '4', '10', '6', '2', '8', '5', '10', '8', '8', '10', '8', '1', '10', '3', '8', '6', '8', '4', '1', '10', '1', '1', '10', '1', '9', '2', '2', '3', '10', '10', '2', '6', '4', '8', '5', '10', '6', '6', '10', '1', '10', '6', '1', '10', '1', '5', '9', '10', '11', '9', '10', '2', '6', '1', '1', '9', '6', '7', '9', '10', '6', '6', '4', '8', '8', '3', '2', '1', '1', '6', '1', '10', '4', '10', '10', '1', '6', '11', '6', '10', '6', '6', '11', '5', '1', '6', '10', '6', '8', '10', '1', '2', '5', '9', '10', '5', '6', '2', '10', '2', '11', '9', '6', '10', '10', '10', '8', '2', '6', '6', '10', '11', '4', '4', '9', '3', '10', '10', '6', '2', '3', '6', '2', '10', '2', '3', '10', '10', '6', '9', '6', '1', '6', '5', '10', '7', '9', '5', '4', '10', '6', '4', '9', '10', '6', '6', '6', '11', '6', '6', '3', '1', '3', '8', '1', '6', '10', '4', '6', '6', '10', '10', '6', '9', '10', '8', '6', '6', '6', '1', '6', '1', '9', '1', '1', '9', '10', '6', '11', '5', '4', '1', '1', '6', '1', '6', '1', '6', '1', '6', '4', '8', '4', '8', '11', '10', '1', '1', '10', '10', '10', '6', '7', '6', '6', '6', '1', '3', '6', '8', '6', '11', '1', '8', '10', '3', '11', '8', '6', '5', '1', '10', '6', '10', '10', '3', '6', '6', '10', '1', '6', '6', '7', '10', '5', '1', '10', '6', '6', '3', '2', '1', '10', '1', '1', '6', '10', '2', '5', '1', '1', '3', '10', '6', '6', '1', '8', '10', '6', '10', '11', '11', '6', '6', '6', '6', '4', '4', '2', '2', '11', '10', '2', '10', '6', '10', '6', '5', '10', '4', '8', '6', '2', '6', '6', '6', '8', '9', '6', '10', '6', '8', '7', '7', '7', '7', '1', '8', '6', '1', '1', '10', '6', '6', '9', '10', '9', '1', '10', '6', '10', '6', '8', '2', '10', '10', '10', '10', '3', '10', '7', '9', '11', '9', '10', '1', '6', '1', '6', '6', '6', '1', '1', '1', '1', '1', '6', '3', '1', '6', '6', '6', '6', '1', '5', '5', '10', '10', '1', '10', '7', '10', '1', '6', '8', '8', '7', '8', '7', '8', '8', '8', '8', '7', '7', '10', '10', '6', '10', '9', '10', '10', '10', '10', '8', '8', '7', '3', '7', '3', '7', '7', '8', '8', '8', '10', '8', '10', '8', '8', '7', '10', '8', '7', '6', '7', '8', '8', '10', '7', '6', '10', '10', '7', '8', '6', '7', '9', '7', '1', '7', '3', '7', '7', '7', '8', '8', '7', '8', '6', '7', '8', '8', '8', '8', '7', '7', '8', '7', '3', '11', '6', '8', '7', '8', '3', '5', '7', '3', '8', '8', '6', '8', '10', '8', '8', '8', '8', '8', '8', '7', '7', '8', '8', '7', '8', '7', '7', '8', '3', '8', '8', '8', '8', '8', '8', '8', '1', '8', '7', '8', '1', '6', '1', '7', '8', '1', '7', '8', '3', '8', '8', '7', '7', '7', '8', '8', '8', '6', '3', '6', '7', '6', '3', '3', '8', '7', '7', '7', '2', '8', '7', '8', '1', '10', '8', '3', '3', '6', '7', '8', '4', '8', '8', '8', '8', '6', '10', '8', '6', '6', '7', '8', '8', '10', '10', '6', '10', '6', '1', '6', '4', '10', '2', '1', '6', '6', '7', '10', '6', '10', '6', '4', '10', '9', '4', '2', '6', '1', '2', '8', '1', '6', '8', '10', '4', '10', '6', '10', '1', '4', '10', '1', '8', '10', '10', '10', '3', '6', '8', '6', '10', '1', '10', '8', '7', '10', '8', '8', '10', '1', '1', '6', '10', '1', '6', '1', '1', '1', '4', '7', '5', '8', '4', '10', '10', '10', '6', '6', '1', '10', '6', '10', '1', '10', '10', '6', '8', '1', '9', '3', '6', '5', '1', '10', '2', '10', '7', '10', '1', '11', '7', '10', '6', '4', '6', '9', '2', '1', '1', '1', '8', '6', '4', '10', '10', '10', '6', '6', '1', '3', '6', '4', '9', '6', '1', '2', '2', '3', '8', '8', '2', '9', '10', '10', '4', '8', '1', '10', '10', '1', '1', '6', '7', '6', '10', '10', '10', '4', '5', '1', '1', '10', '2', '2', '1', '7', '11', '5', '2', '8', '8', '8', '8', '6', '5', '6', '4', '10', '10', '1', '10', '5', '10', '1', '8', '2', '2', '1', '1', '1', '6', '3', '10', '6', '3', '2', '6', '1', '10', '8', '10', '5', '10', '10', '4', '8', '3', '1', '1', '1', '9', '2', '10', '6', '10', '4', '10', '1', '8', '10', '8', '10', '2', '2', '6', '5', '10', '10', '1', '1', '2', '10', '10', '4', '10', '10', '2', '10', '6', '10', '10', '6', '3', '4', '11', '11', '1', '1', '10', '1', '1', '1', '1', '8', '1', '7', '11', '9', '6', '6', '6', '6', '6', '10', '8', '1', '1', '6', '1', '1', '1', '1', '1', '10', '6', '6', '1', '10', '10', '10', '10', '10', '10', '10', '10', '2', '6', '9', '6', '10', '6', '9', '3', '9', '10', '6', '5', '6', '10', '6', '6', '2', '10', '4', '10', '8', '1', '7', '8', '9', '6', '6', '6', '5', '1', '11', '8', '10', '10', '6', '9', '1', '1', '10', '2', '8', '10', '1', '1', '10', '9', '8', '7', '5', '6', '10', '10', '1', '8', '10', '8', '6', '9', '6', '4', '10', '9', '3', '4', '8', '6', '6', '8', '7', '2', '6', '10', '6', '6', '7', '1', '6', '10', '10', '6', '4', '3', '6', '1', '1', '6', '10', '10', '10', '1', '1', '5', '10', '11', '1', '8', '1', '1', '1', '4', '10', '10', '8', '8', '6', '7', '8', '10', '10', '3', '10', '6', '1', '8', '6', '8', '2', '10', '6', '4', '8', '6', '6', '6', '6', '9', '6', '6', '2', '2', '9', '6', '6', '7', '10', '4', '9', '8', '10', '10', '10', '6', '1', '10', '10', '6', '9', '6', '4', '10', '10', '2', '8', '9', '10', '10', '3', '1', '1', '10', '10', '1', '1', '6', '9', '10', '6', '2', '10', '7', '10', '10', '10', '6', '8', '6', '10', '10', '10', '8', '10', '1', '8', '10', '8', '10', '8', '11', '10', '10', '1', '1', '2', '10', '10', '8', '6', '8', '10', '2', '3', '2', '10', '8', '1', '10', '1', '9', '6', '3', '10', '10', '8', '1', '10', '1', '10', '6', '10', '5', '9', '8', '6', '10', '6', '2', '10', '6', '2', '6', '6', '6', '10', '10', '10', '10', '2', '8', '2', '10', '1', '6', '8', '8', '5', '9', '6', '6', '6', '3', '8', '1', '9', '6', '1', '10', '1', '3', '1', '1', '1', '10', '6', '1', '6', '8', '8', '1', '10', '1', '8', '11', '8', '3', '2', '4', '10', '10', '6', '11', '8', '8', '3', '8', '10', '10', '10', '1', '10', '8', '6', '11', '10', '1', '8', '6', '8', '2', '3', '1', '2', '6', '6', '2', '6', '6', '3', '2', '9', '1', '6', '2', '3', '3', '1', '1', '4', '6', '3', '1', '1', '6', '10', '1', '10', '10', '8', '11', '10', '3', '8', '2']\n"
     ]
    }
   ],
   "source": [
    "print(newlabels)"
   ]
  },
  {
   "cell_type": "code",
   "execution_count": 12,
   "metadata": {},
   "outputs": [
    {
     "name": "stdout",
     "output_type": "stream",
     "text": [
      "(3954, 100, 100, 3)\n"
     ]
    }
   ],
   "source": [
    "#將輸入的所有圖片轉成四維陣列，尺寸為(圖片數量*IMAGE_SIZE*IMAGE_SIZE*3)\n",
    "#我和閨女兩個人共1200張圖片，IMAGE_SIZE為64，故對我來說尺寸為1200 * 64 * 64 * 3\n",
    "#圖片為64 * 64畫素,一個畫素3個顏色值(RGB)\n",
    "images = np.array(images)\n",
    "print(images.shape) "
   ]
  },
  {
   "cell_type": "code",
   "execution_count": 13,
   "metadata": {},
   "outputs": [
    {
     "name": "stdout",
     "output_type": "stream",
     "text": [
      "(3954,)\n"
     ]
    }
   ],
   "source": [
    "newlabels = np.array(newlabels)\n",
    "print(newlabels.shape)"
   ]
  },
  {
   "cell_type": "code",
   "execution_count": null,
   "metadata": {},
   "outputs": [],
   "source": []
  },
  {
   "cell_type": "code",
   "execution_count": 14,
   "metadata": {},
   "outputs": [
    {
     "name": "stderr",
     "output_type": "stream",
     "text": [
      "Using TensorFlow backend.\n"
     ]
    }
   ],
   "source": [
    "import random\n",
    "\n",
    "import numpy as np\n",
    "from sklearn.model_selection import train_test_split\n",
    "from keras.preprocessing.image import ImageDataGenerator\n",
    "from keras.models import Sequential\n",
    "from keras.layers import Dense, Dropout, Activation, Flatten\n",
    "from keras.layers import Convolution2D, MaxPooling2D\n",
    "from keras.optimizers import SGD\n",
    "from keras.utils import np_utils\n",
    "from keras.models import load_model\n",
    "from keras import backend as K\n",
    "\n",
    "#from load_face_dataset import load_dataset, resize_image, IMAGE_SIZE"
   ]
  },
  {
   "cell_type": "code",
   "execution_count": 15,
   "metadata": {},
   "outputs": [],
   "source": [
    "temp_images, test_images, temp_labels, test_labels = train_test_split(images, newlabels, test_size=0.1,random_state = random.randint(0, 100))"
   ]
  },
  {
   "cell_type": "code",
   "execution_count": 16,
   "metadata": {},
   "outputs": [],
   "source": [
    "train_images, valid_images, train_labels, valid_labels = train_test_split(temp_images, temp_labels, test_size=0.2, random_state = random.randint(0, 100))"
   ]
  },
  {
   "cell_type": "code",
   "execution_count": 17,
   "metadata": {},
   "outputs": [],
   "source": [
    "#把label的1~11改成0~10，為了作one hot encoding\n",
    "for i in range(len(train_labels)):\n",
    "    train_labels[i] = np.int(train_labels[i]) - 1\n",
    "\n",
    "for i in range(len(valid_labels)):\n",
    "    valid_labels[i] = np.int(valid_labels[i]) - 1\n",
    "    \n",
    "for i in range(len(test_labels)):\n",
    "    test_labels[i] = np.int(test_labels[i]) - 1"
   ]
  },
  {
   "cell_type": "code",
   "execution_count": 18,
   "metadata": {},
   "outputs": [],
   "source": [
    "#我們的模型使用categorical_crossentropy作為損失函式，因此需要根據類別數量nb_classes\n",
    "#類別標籤進行one-hot編碼使其向量化，在這裡我們的類別只有兩種，經過轉化後標籤資料變為二維\n",
    "\n",
    "classes = 11\n",
    "\n",
    "train_labels = np_utils.to_categorical(train_labels, classes)\n",
    "valid_labels = np_utils.to_categorical(valid_labels, classes)\n",
    "test_labels = np_utils.to_categorical(test_labels, classes)"
   ]
  },
  {
   "cell_type": "code",
   "execution_count": 19,
   "metadata": {},
   "outputs": [],
   "source": [
    "#畫素資料浮點化以便歸一化\n",
    "train_images = train_images.astype('float32') \n",
    "valid_images = valid_images.astype('float32')\n",
    "test_images = test_images.astype('float32')"
   ]
  },
  {
   "cell_type": "code",
   "execution_count": 20,
   "metadata": {},
   "outputs": [],
   "source": [
    "#將其歸一化,影象的各畫素值歸一化到0~1區間\n",
    "train_images /= 255\n",
    "valid_images /= 255\n",
    "test_images /= 255"
   ]
  },
  {
   "cell_type": "code",
   "execution_count": 22,
   "metadata": {},
   "outputs": [
    {
     "name": "stderr",
     "output_type": "stream",
     "text": [
      "D:\\Anaconda\\lib\\site-packages\\ipykernel_launcher.py:3: UserWarning: Update your `Conv2D` call to the Keras 2 API: `Conv2D(32, (3, 3), input_shape=(100, 100,..., padding=\"same\")`\n",
      "  This is separate from the ipykernel package so we can avoid doing imports until\n"
     ]
    },
    {
     "name": "stdout",
     "output_type": "stream",
     "text": [
      "WARNING:tensorflow:From D:\\Anaconda\\lib\\site-packages\\keras\\backend\\tensorflow_backend.py:3445: calling dropout (from tensorflow.python.ops.nn_ops) with keep_prob is deprecated and will be removed in a future version.\n",
      "Instructions for updating:\n",
      "Please use `rate` instead of `keep_prob`. Rate should be set to `rate = 1 - keep_prob`.\n",
      "_________________________________________________________________\n",
      "Layer (type)                 Output Shape              Param #   \n",
      "=================================================================\n",
      "conv2d_2 (Conv2D)            (None, 100, 100, 32)      896       \n",
      "_________________________________________________________________\n",
      "activation_2 (Activation)    (None, 100, 100, 32)      0         \n",
      "_________________________________________________________________\n",
      "max_pooling2d_1 (MaxPooling2 (None, 50, 50, 32)        0         \n",
      "_________________________________________________________________\n",
      "dropout_1 (Dropout)          (None, 50, 50, 32)        0         \n",
      "_________________________________________________________________\n",
      "conv2d_3 (Conv2D)            (None, 48, 48, 50)        14450     \n",
      "_________________________________________________________________\n",
      "activation_3 (Activation)    (None, 48, 48, 50)        0         \n",
      "_________________________________________________________________\n",
      "max_pooling2d_2 (MaxPooling2 (None, 24, 24, 50)        0         \n",
      "_________________________________________________________________\n",
      "dropout_2 (Dropout)          (None, 24, 24, 50)        0         \n",
      "_________________________________________________________________\n",
      "flatten_1 (Flatten)          (None, 28800)             0         \n",
      "_________________________________________________________________\n",
      "dense_1 (Dense)              (None, 512)               14746112  \n",
      "_________________________________________________________________\n",
      "activation_4 (Activation)    (None, 512)               0         \n",
      "_________________________________________________________________\n",
      "dropout_3 (Dropout)          (None, 512)               0         \n",
      "_________________________________________________________________\n",
      "dense_2 (Dense)              (None, 11)                5643      \n",
      "_________________________________________________________________\n",
      "activation_5 (Activation)    (None, 11)                0         \n",
      "=================================================================\n",
      "Total params: 14,767,101\n",
      "Trainable params: 14,767,101\n",
      "Non-trainable params: 0\n",
      "_________________________________________________________________\n"
     ]
    },
    {
     "name": "stderr",
     "output_type": "stream",
     "text": [
      "D:\\Anaconda\\lib\\site-packages\\ipykernel_launcher.py:8: UserWarning: Update your `Conv2D` call to the Keras 2 API: `Conv2D(50, (3, 3))`\n",
      "  \n"
     ]
    }
   ],
   "source": [
    "model = Sequential()\n",
    "\n",
    "model.add(Convolution2D(32, 3, 3, border_mode='same', input_shape = (100,100,3) ))  #卷積層\n",
    "model.add(Activation('relu'))  #啟用函式層\n",
    "model.add(MaxPooling2D(2,2))  #池化層\n",
    "model.add(Dropout(0.25))  #dropout層\n",
    "\n",
    "model.add(Convolution2D(50, 3, 3))\n",
    "model.add(Activation('relu'))\n",
    "model.add(MaxPooling2D(2,2))\n",
    "model.add(Dropout(0.25)) \n",
    "\n",
    "model.add(Flatten())   #flatten層\n",
    "\n",
    "model.add(Dense(512))   #全聯通層\n",
    "model.add(Activation('relu'))\n",
    "model.add(Dropout(0.5))\n",
    "\n",
    "model.add(Dense(classes))\n",
    "model.add(Activation('softmax'))   #分類層\n",
    "\n",
    "model.summary()"
   ]
  },
  {
   "cell_type": "code",
   "execution_count": 23,
   "metadata": {},
   "outputs": [],
   "source": [
    "#訓練模型\n",
    "model.compile(loss='categorical_crossentropy', optimizer='adam', metrics=['accuracy'])"
   ]
  },
  {
   "cell_type": "code",
   "execution_count": 24,
   "metadata": {},
   "outputs": [
    {
     "name": "stdout",
     "output_type": "stream",
     "text": [
      "WARNING:tensorflow:From D:\\Anaconda\\lib\\site-packages\\tensorflow\\python\\ops\\math_ops.py:3066: to_int32 (from tensorflow.python.ops.math_ops) is deprecated and will be removed in a future version.\n",
      "Instructions for updating:\n",
      "Use tf.cast instead.\n",
      "Train on 2276 samples, validate on 570 samples\n",
      "Epoch 1/10\n",
      " - 48s - loss: 4.5785 - acc: 0.1564 - val_loss: 2.3363 - val_acc: 0.1789\n",
      "Epoch 2/10\n",
      " - 44s - loss: 2.3570 - acc: 0.2021 - val_loss: 2.3842 - val_acc: 0.1982\n",
      "Epoch 3/10\n",
      " - 45s - loss: 2.3471 - acc: 0.2131 - val_loss: 2.3603 - val_acc: 0.2298\n",
      "Epoch 4/10\n",
      " - 60s - loss: 2.2466 - acc: 0.1968 - val_loss: 2.2089 - val_acc: 0.2211\n",
      "Epoch 5/10\n",
      " - 61s - loss: 2.1745 - acc: 0.2039 - val_loss: 2.2191 - val_acc: 0.2228\n",
      "Epoch 6/10\n",
      " - 65s - loss: 2.1482 - acc: 0.2034 - val_loss: 2.2177 - val_acc: 0.2263\n",
      "Epoch 7/10\n",
      " - 60s - loss: 2.1287 - acc: 0.2267 - val_loss: 2.1609 - val_acc: 0.2333\n",
      "Epoch 8/10\n",
      " - 55s - loss: 2.1073 - acc: 0.2456 - val_loss: 2.1586 - val_acc: 0.2579\n",
      "Epoch 9/10\n",
      " - 47s - loss: 2.0840 - acc: 0.2500 - val_loss: 2.1413 - val_acc: 0.2491\n",
      "Epoch 10/10\n",
      " - 46s - loss: 2.0449 - acc: 0.2592 - val_loss: 2.1272 - val_acc: 0.2526\n"
     ]
    },
    {
     "data": {
      "text/plain": [
       "<keras.callbacks.History at 0x21b744e5a58>"
      ]
     },
     "execution_count": 24,
     "metadata": {},
     "output_type": "execute_result"
    }
   ],
   "source": [
    "model.fit(x=train_images,y=train_labels,validation_split=0.2, epochs=10, batch_size=300,verbose=2)"
   ]
  },
  {
   "cell_type": "code",
   "execution_count": 25,
   "metadata": {},
   "outputs": [
    {
     "name": "stdout",
     "output_type": "stream",
     "text": [
      "2846/2846 [==============================] - 13s 5ms/step\n",
      "\n",
      "train Acc: 0.3007730148832143\n"
     ]
    }
   ],
   "source": [
    "result = model.evaluate(train_images, train_labels)\n",
    "print ('\\ntrain Acc:', result[1])"
   ]
  },
  {
   "cell_type": "code",
   "execution_count": 26,
   "metadata": {},
   "outputs": [
    {
     "name": "stdout",
     "output_type": "stream",
     "text": [
      "396/396 [==============================] - 2s 5ms/step\n",
      "\n",
      "Test Acc: 0.22474747474747475\n"
     ]
    }
   ],
   "source": [
    "result = model.evaluate(test_images, test_labels)\n",
    "print ('\\nTest Acc:', result[1])"
   ]
  },
  {
   "cell_type": "code",
   "execution_count": null,
   "metadata": {},
   "outputs": [],
   "source": []
  }
 ],
 "metadata": {
  "kernelspec": {
   "display_name": "Python 3",
   "language": "python",
   "name": "python3"
  },
  "language_info": {
   "codemirror_mode": {
    "name": "ipython",
    "version": 3
   },
   "file_extension": ".py",
   "mimetype": "text/x-python",
   "name": "python",
   "nbconvert_exporter": "python",
   "pygments_lexer": "ipython3",
   "version": "3.7.3"
  }
 },
 "nbformat": 4,
 "nbformat_minor": 2
}
